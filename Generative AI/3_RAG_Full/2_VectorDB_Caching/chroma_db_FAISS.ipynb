{
 "cells": [
  {
   "cell_type": "markdown",
   "id": "3f622596",
   "metadata": {},
   "source": [
    "# VectorDB\n",
    "\n",
    "Vector databases are optimized for semantic search. They use **ANN (Approximate Nearest Neighbor)** algorithms, which trade a bit of accuracy for significantly faster performance compared to exact **KNN (k-Nearest Neighbors)**. ANN typically operates in *O(log N)* time, while KNN is *O(N)*.\n",
    "\n",
    "### VectorDB vs RDBMS\n",
    "\n",
    "* **RDBMS** stores structured data (rows and columns) and relies on exact keyword matching.\n",
    "* **VectorDB** stores unstructured data (text, images, audio, video) as vector embeddings and enables similarity-based search.\n",
    "* VectorDBs are faster for semantic search and are critical in GenAI and **RAG (Retrieval-Augmented Generation)** systems.\n",
    "\n",
    "### Indexing Techniques in VectorDB\n",
    "\n",
    "* **Flat**: Brute-force search.\n",
    "* **LSH (Locality-Sensitive Hashing)**: Groups vectors into hash buckets.\n",
    "* **IVF (Inverted File Index)**: Partitions vectors into clusters; **IVFPQ** further compresses each cluster.\n",
    "\n",
    "  * *Note:* Borderline vectors may trigger search in nearby clusters.\n",
    "* **HNSW (Hierarchical Navigable Small World)**: Organizes vectors in a multi-layer graph for fast navigation across similar vectors."
   ]
  },
  {
   "cell_type": "code",
   "execution_count": null,
   "id": "b34f2b25",
   "metadata": {},
   "outputs": [],
   "source": [
    "import pdfplumber\n",
    "import pandas as pd\n",
    "import numpy as np\n",
    "\n",
    "from sentence_transformers import SentenceTransformer\n",
    "from sklearn.metrics.pairwise import cosine_similarity\n",
    "\n",
    "#FAISS, PINECONE\n",
    "import chromadb\n",
    "from chromadb import PersistentClient\n",
    "from chromadb.config import Settings"
   ]
  },
  {
   "cell_type": "code",
   "execution_count": 2,
   "id": "19b31a6f",
   "metadata": {},
   "outputs": [
    {
     "data": {
      "text/plain": [
       "142"
      ]
     },
     "execution_count": 2,
     "metadata": {},
     "output_type": "execute_result"
    }
   ],
   "source": [
    "pdf_reader = pdfplumber.open(\"../Data/Uber-2024-Annual-Report.pdf\")\n",
    "len(pdf_reader.pages)"
   ]
  },
  {
   "cell_type": "markdown",
   "id": "bf5f7150",
   "metadata": {},
   "source": [
    "#### Chunking Strategies\n",
    "- Fixed Size chunking - Fixed length\n",
    "- Sentence based chunking - EOS\n",
    "- New Line based chunking - \\n\n",
    "- Paragraph based Chunking - \\n\\n\n",
    "- Page based Chunking\n",
    "- Token based chunking - Fixed length of tokens rather than words\n",
    "- Sliding window chunking - Overlaps some content from previous chunk\n",
    "- Hierarhical Chunking - Breaks down documents at multiple levels, such as sections, subsections, and paragraphs\n",
    "- Content-Aware Chunking - Chunking text at paragraph level and tables as seperate entities\n",
    "- Table aware Chunking\n",
    "- Keyword based Chunking - Introduction, Conclusion, Summary these are chunked\n",
    "- Hybrid Chunking - Using different Chunking strategies based on data"
   ]
  },
  {
   "cell_type": "code",
   "execution_count": null,
   "id": "d4653a82",
   "metadata": {},
   "outputs": [],
   "source": [
    "text_content = []\n",
    "document_name = \"\".join(pdf_reader.stream.name.split(\"/\")[-1].split(\".\")[:-1])\n",
    "\n",
    "for i, page in enumerate(pdf_reader.pages):\n",
    "    text_page = page.extract_text()\n",
    "\n",
    "    split_text = text_page.split(\"\\n\")\n",
    "\n",
    "    for text in split_text:\n",
    "        if len(text.split(\" \")) > 10:\n",
    "            text_content.append({\n",
    "                \"type\" : \"text\",\n",
    "                \"document\": document_name,\n",
    "                \"page\": f\"{i+1}\",\n",
    "                \"content\": text\n",
    "            })\n",
    "\n",
    "text_content[0]"
   ]
  },
  {
   "cell_type": "code",
   "execution_count": null,
   "id": "aace2054",
   "metadata": {},
   "outputs": [],
   "source": [
    "len(text_content)"
   ]
  },
  {
   "cell_type": "code",
   "execution_count": 3,
   "id": "26d1b4de",
   "metadata": {},
   "outputs": [
    {
     "name": "stdout",
     "output_type": "stream",
     "text": [
      "Page number: 1, count: 5\n",
      "Page number: 139, count: 2\n",
      "Page number: 140, count: 5\n"
     ]
    },
    {
     "data": {
      "text/plain": [
       "{'type': 'text',\n",
       " 'document': 'Uber-2024-Annual-Report',\n",
       " 'page': '2',\n",
       " 'split': '0',\n",
       " 'content': 'Uber’s Mission\\nWe reimagine the way the world moves for the better\\nWe are Uber. The go-getters. The kind of people who are relentless about our\\nmission to help people go anywhere and get anything and earn their way.\\nMovement is what we power. It’s our lifeblood. It runs through our veins. It’s\\nwhat gets us out of bed each morning. It pushes us to constantly reimagine\\nhow we can move better. For you. For all the places you want to go. For all the\\nthings you want to get. For all the ways you want to earn. Across the entire\\nworld. In real time. At the incredible speed of now.'}"
      ]
     },
     "execution_count": 3,
     "metadata": {},
     "output_type": "execute_result"
    }
   ],
   "source": [
    "text_content = []\n",
    "\n",
    "def find_middle_newline(s):\n",
    "    # Step 1: Find all indexes of '\\n'\n",
    "    newline_indices = [i for i, char in enumerate(s) if char == '\\n']\n",
    "    \n",
    "    if not newline_indices:\n",
    "        return None  # No newline found\n",
    "    \n",
    "    # Step 2: Find the middle index\n",
    "    middle_index = len(newline_indices) // 2\n",
    "    \n",
    "    # Step 3: Return the position of the middle '\\n'\n",
    "    return newline_indices[middle_index]\n",
    "\n",
    "\n",
    "document_name = \"\".join(pdf_reader.stream.name.split(\"/\")[-1].split(\".\")[:-1])\n",
    "\n",
    "\n",
    "for i, page in enumerate(pdf_reader.pages):\n",
    "    text_page = page.extract_text()\n",
    "\n",
    "    if len(text_page.split(\" \")) < 10:\n",
    "        print(f\"Page number: {i+1}, count: {len(text_page.split(\" \"))}\")\n",
    "        continue\n",
    "\n",
    "    if len(text_page) > 5000:\n",
    "        mid_index = find_middle_newline(text_page)\n",
    "        text_content.append({\n",
    "            \"type\" : \"text\",\n",
    "            \"document\": document_name,\n",
    "            \"page\": f\"{i+1}\",\n",
    "            \"split\":f\"0\",\n",
    "            \"content\": text_page[:mid_index]\n",
    "        })\n",
    "\n",
    "        text_content.append({\n",
    "            \"type\" : \"text\",\n",
    "            \"document\": document_name,\n",
    "            \"page\": f\"{i+1}\",\n",
    "            \"split\":f\"1\",\n",
    "            \"content\": text_page[mid_index+1:]\n",
    "        })\n",
    "    else:\n",
    "        text_content.append({\n",
    "                    \"type\" : \"text\",\n",
    "                    \"document\": document_name,\n",
    "                    \"page\": f\"{i+1}\",\n",
    "                    \"split\":f\"0\",\n",
    "                    \"content\": text_page\n",
    "                })\n",
    "\n",
    "text_content[0]"
   ]
  },
  {
   "cell_type": "code",
   "execution_count": 4,
   "id": "4dcc10a4",
   "metadata": {},
   "outputs": [
    {
     "data": {
      "text/plain": [
       "205"
      ]
     },
     "execution_count": 4,
     "metadata": {},
     "output_type": "execute_result"
    }
   ],
   "source": [
    "len(text_content)"
   ]
  },
  {
   "cell_type": "code",
   "execution_count": 5,
   "id": "f3d478b2",
   "metadata": {},
   "outputs": [
    {
     "data": {
      "text/html": [
       "<div>\n",
       "<style scoped>\n",
       "    .dataframe tbody tr th:only-of-type {\n",
       "        vertical-align: middle;\n",
       "    }\n",
       "\n",
       "    .dataframe tbody tr th {\n",
       "        vertical-align: top;\n",
       "    }\n",
       "\n",
       "    .dataframe thead th {\n",
       "        text-align: right;\n",
       "    }\n",
       "</style>\n",
       "<table border=\"1\" class=\"dataframe\">\n",
       "  <thead>\n",
       "    <tr style=\"text-align: right;\">\n",
       "      <th></th>\n",
       "      <th>type</th>\n",
       "      <th>document</th>\n",
       "      <th>page</th>\n",
       "      <th>split</th>\n",
       "      <th>content</th>\n",
       "    </tr>\n",
       "  </thead>\n",
       "  <tbody>\n",
       "    <tr>\n",
       "      <th>0</th>\n",
       "      <td>text</td>\n",
       "      <td>Uber-2024-Annual-Report</td>\n",
       "      <td>2</td>\n",
       "      <td>0</td>\n",
       "      <td>Uber’s Mission\\nWe reimagine the way the world...</td>\n",
       "    </tr>\n",
       "    <tr>\n",
       "      <th>1</th>\n",
       "      <td>text</td>\n",
       "      <td>Uber-2024-Annual-Report</td>\n",
       "      <td>3</td>\n",
       "      <td>0</td>\n",
       "      <td>UNITED STATES\\nSECURITIES AND EXCHANGE COMMISS...</td>\n",
       "    </tr>\n",
       "    <tr>\n",
       "      <th>2</th>\n",
       "      <td>text</td>\n",
       "      <td>Uber-2024-Annual-Report</td>\n",
       "      <td>4</td>\n",
       "      <td>0</td>\n",
       "      <td>Large accelerated filer ☒ Accelerated filer ☐\\...</td>\n",
       "    </tr>\n",
       "    <tr>\n",
       "      <th>3</th>\n",
       "      <td>text</td>\n",
       "      <td>Uber-2024-Annual-Report</td>\n",
       "      <td>5</td>\n",
       "      <td>0</td>\n",
       "      <td>UBER TECHNOLOGIES, INC.\\nTABLE OF CONTENTS\\nPa...</td>\n",
       "    </tr>\n",
       "    <tr>\n",
       "      <th>4</th>\n",
       "      <td>text</td>\n",
       "      <td>Uber-2024-Annual-Report</td>\n",
       "      <td>6</td>\n",
       "      <td>0</td>\n",
       "      <td>SPECIAL NOTE REGARDING FORWARD-LOOKING STATEME...</td>\n",
       "    </tr>\n",
       "  </tbody>\n",
       "</table>\n",
       "</div>"
      ],
      "text/plain": [
       "   type                 document page split  \\\n",
       "0  text  Uber-2024-Annual-Report    2     0   \n",
       "1  text  Uber-2024-Annual-Report    3     0   \n",
       "2  text  Uber-2024-Annual-Report    4     0   \n",
       "3  text  Uber-2024-Annual-Report    5     0   \n",
       "4  text  Uber-2024-Annual-Report    6     0   \n",
       "\n",
       "                                             content  \n",
       "0  Uber’s Mission\\nWe reimagine the way the world...  \n",
       "1  UNITED STATES\\nSECURITIES AND EXCHANGE COMMISS...  \n",
       "2  Large accelerated filer ☒ Accelerated filer ☐\\...  \n",
       "3  UBER TECHNOLOGIES, INC.\\nTABLE OF CONTENTS\\nPa...  \n",
       "4  SPECIAL NOTE REGARDING FORWARD-LOOKING STATEME...  "
      ]
     },
     "execution_count": 5,
     "metadata": {},
     "output_type": "execute_result"
    }
   ],
   "source": [
    "text_doc = pd.DataFrame(text_content)\n",
    "text_doc.head()"
   ]
  },
  {
   "cell_type": "code",
   "execution_count": 6,
   "id": "7278a2f2",
   "metadata": {},
   "outputs": [
    {
     "data": {
      "text/html": [
       "<div>\n",
       "<style scoped>\n",
       "    .dataframe tbody tr th:only-of-type {\n",
       "        vertical-align: middle;\n",
       "    }\n",
       "\n",
       "    .dataframe tbody tr th {\n",
       "        vertical-align: top;\n",
       "    }\n",
       "\n",
       "    .dataframe thead th {\n",
       "        text-align: right;\n",
       "    }\n",
       "</style>\n",
       "<table border=\"1\" class=\"dataframe\">\n",
       "  <thead>\n",
       "    <tr style=\"text-align: right;\">\n",
       "      <th></th>\n",
       "      <th>split</th>\n",
       "      <th>content</th>\n",
       "      <th>MetaData</th>\n",
       "    </tr>\n",
       "  </thead>\n",
       "  <tbody>\n",
       "    <tr>\n",
       "      <th>0</th>\n",
       "      <td>0</td>\n",
       "      <td>Uber’s Mission\\nWe reimagine the way the world...</td>\n",
       "      <td>{'Document': 'Uber-2024-Annual-Report', 'Page'...</td>\n",
       "    </tr>\n",
       "    <tr>\n",
       "      <th>1</th>\n",
       "      <td>0</td>\n",
       "      <td>UNITED STATES\\nSECURITIES AND EXCHANGE COMMISS...</td>\n",
       "      <td>{'Document': 'Uber-2024-Annual-Report', 'Page'...</td>\n",
       "    </tr>\n",
       "    <tr>\n",
       "      <th>2</th>\n",
       "      <td>0</td>\n",
       "      <td>Large accelerated filer ☒ Accelerated filer ☐\\...</td>\n",
       "      <td>{'Document': 'Uber-2024-Annual-Report', 'Page'...</td>\n",
       "    </tr>\n",
       "    <tr>\n",
       "      <th>3</th>\n",
       "      <td>0</td>\n",
       "      <td>UBER TECHNOLOGIES, INC.\\nTABLE OF CONTENTS\\nPa...</td>\n",
       "      <td>{'Document': 'Uber-2024-Annual-Report', 'Page'...</td>\n",
       "    </tr>\n",
       "    <tr>\n",
       "      <th>4</th>\n",
       "      <td>0</td>\n",
       "      <td>SPECIAL NOTE REGARDING FORWARD-LOOKING STATEME...</td>\n",
       "      <td>{'Document': 'Uber-2024-Annual-Report', 'Page'...</td>\n",
       "    </tr>\n",
       "  </tbody>\n",
       "</table>\n",
       "</div>"
      ],
      "text/plain": [
       "  split                                            content  \\\n",
       "0     0  Uber’s Mission\\nWe reimagine the way the world...   \n",
       "1     0  UNITED STATES\\nSECURITIES AND EXCHANGE COMMISS...   \n",
       "2     0  Large accelerated filer ☒ Accelerated filer ☐\\...   \n",
       "3     0  UBER TECHNOLOGIES, INC.\\nTABLE OF CONTENTS\\nPa...   \n",
       "4     0  SPECIAL NOTE REGARDING FORWARD-LOOKING STATEME...   \n",
       "\n",
       "                                            MetaData  \n",
       "0  {'Document': 'Uber-2024-Annual-Report', 'Page'...  \n",
       "1  {'Document': 'Uber-2024-Annual-Report', 'Page'...  \n",
       "2  {'Document': 'Uber-2024-Annual-Report', 'Page'...  \n",
       "3  {'Document': 'Uber-2024-Annual-Report', 'Page'...  \n",
       "4  {'Document': 'Uber-2024-Annual-Report', 'Page'...  "
      ]
     },
     "execution_count": 6,
     "metadata": {},
     "output_type": "execute_result"
    }
   ],
   "source": [
    "text_doc[\"MetaData\"] = text_doc.apply(lambda x: {\"Document\": x[\"document\"], \"Page\": x[\"page\"], \"Split\": x[\"split\"], \"Type\": x[\"type\"]}, axis=1)\n",
    "text_doc = text_doc.drop([\"type\", \"document\", \"page\"], axis=1)\n",
    "text_doc.head()\n"
   ]
  },
  {
   "cell_type": "code",
   "execution_count": 7,
   "id": "c5ecb876",
   "metadata": {},
   "outputs": [],
   "source": [
    "model_name = \"all-MiniLM-L6-v2\"\n",
    "embedding_model = SentenceTransformer(model_name)\n",
    "only_text = text_doc[\"content\"].tolist()\n",
    "embeddings = embedding_model.encode(only_text)"
   ]
  },
  {
   "cell_type": "code",
   "execution_count": 8,
   "id": "755192e8",
   "metadata": {},
   "outputs": [],
   "source": [
    "Chroma_DB_Path = \"../Store/2_VectorDB\"\n",
    "COLLECTION_NAME = \"uber_revenue\"\n",
    "\n",
    "# chroma_client = chromadb.Client(Settings(\n",
    "#     persist_directory=Chroma_DB_Path,\n",
    "#     anonymized_telemetry=False\n",
    "# ))\n",
    "\n",
    "chroma_client = PersistentClient(path=Chroma_DB_Path)\n",
    "\n",
    "collection = chroma_client.get_or_create_collection(name=COLLECTION_NAME)"
   ]
  },
  {
   "cell_type": "code",
   "execution_count": 9,
   "id": "823a25a4",
   "metadata": {},
   "outputs": [
    {
     "data": {
      "text/plain": [
       "0    Uber-2024-Annual-Report_p2_s0\n",
       "1    Uber-2024-Annual-Report_p3_s0\n",
       "2    Uber-2024-Annual-Report_p4_s0\n",
       "3    Uber-2024-Annual-Report_p5_s0\n",
       "4    Uber-2024-Annual-Report_p6_s0\n",
       "Name: MetaData, dtype: object"
      ]
     },
     "execution_count": 9,
     "metadata": {},
     "output_type": "execute_result"
    }
   ],
   "source": [
    "ids = text_doc[\"MetaData\"].apply(lambda x: f\"{x['Document']}_p{x['Page']}_s{x['Split']}\")\n",
    "ids[:5]"
   ]
  },
  {
   "cell_type": "code",
   "execution_count": 10,
   "id": "01bc9340",
   "metadata": {},
   "outputs": [
    {
     "name": "stdout",
     "output_type": "stream",
     "text": [
      "Successfully stored\n"
     ]
    }
   ],
   "source": [
    "collection.add(\n",
    "    documents=text_doc['content'].tolist(),\n",
    "    metadatas=text_doc['MetaData'].tolist(),\n",
    "    ids=ids.tolist()\n",
    ")\n",
    "print(\"Successfully stored\")"
   ]
  },
  {
   "cell_type": "code",
   "execution_count": 11,
   "id": "970b47bd",
   "metadata": {},
   "outputs": [],
   "source": [
    "caching = []\n",
    "cache_emd = []"
   ]
  },
  {
   "cell_type": "code",
   "execution_count": 12,
   "id": "68981690",
   "metadata": {},
   "outputs": [],
   "source": [
    "def get_chroma_results(query):\n",
    "    query_emd = embedding_model.encode([query])\n",
    "    \n",
    "    if len(cache_emd) > 0:\n",
    "        cache_emd_array = np.vstack(cache_emd) \n",
    "        similarities = cosine_similarity(query_emd, cache_emd_array)\n",
    "        best_match_indexes = [np.argmax(item) for item in similarities]\n",
    "\n",
    "        if len(best_match_indexes) > 0 and similarities[0][best_match_indexes[0]] > 0.8:\n",
    "            print(f\"Returning from query: {caching[best_match_indexes[0]][\"query\"]} cache with score: {similarities[0][best_match_indexes[0]]:.4f}\")\n",
    "            return caching[best_match_indexes[0]][\"results\"]\n",
    "    \n",
    "\n",
    "    results = collection.query(\n",
    "        query_texts=[query],\n",
    "        n_results=3\n",
    "    )\n",
    "\n",
    "    caching.append({\"query\": query, \"results\": results}) \n",
    "    cache_emd.append(query_emd)\n",
    "    \n",
    "    return results"
   ]
  },
  {
   "cell_type": "code",
   "execution_count": 13,
   "id": "4681dea4",
   "metadata": {},
   "outputs": [
    {
     "data": {
      "text/plain": [
       "{'ids': [['Uber-2024-Annual-Report_p79_s0',\n",
       "   'Uber-2024-Annual-Report_p98_s0',\n",
       "   'Uber-2024-Annual-Report_p58_s0']],\n",
       " 'embeddings': None,\n",
       " 'documents': [['UBER TECHNOLOGIES, INC.\\nCONSOLIDATED STATEMENTS OF OPERATIONS\\n(In millions, except share amounts which are reflected in thousands, and per share amounts)\\nYear Ended December 31,\\n2022 2023 2024\\nRevenue $ 31,877 $ 37,281 $ 43,978\\nCosts and expenses\\nCost of revenue, exclusive of depreciation and amortization shown separately below 19,659 22,457 26,651\\nOperations and support 2,413 2,689 2,732\\nSales and marketing 4,756 4,356 4,337\\nResearch and development 2,798 3,164 3,109\\nGeneral and administrative 3,136 2,682 3,639\\nDepreciation and amortization 947 823 711\\nTotal costs and expenses 33,709 36,171 41,179\\nIncome (loss) from operations (1,832) 1,110 2,799\\nInterest expense (565) (633) (523)\\nOther income (expense), net (7,029) 1,844 1,849\\nIncome (loss) before income taxes and income (loss) from equity method investments (9,426) 2,321 4,125\\nProvision for (benefit from) income taxes (181) 213 (5,758)\\nIncome (loss) from equity method investments 107 48 (38)\\nNet income (loss) including non-controlling interests (9,138) 2,156 9,845\\nLess: net income (loss) attributable to non-controlling interests, net of tax 3 269 (11)\\nNet income (loss) attributable to Uber Technologies, Inc. $ (9,141) $ 1,887 $ 9,856\\nNet income (loss) per share attributable to Uber Technologies, Inc. common\\nstockholders:\\nBasic $ (4.64) $ 0.93 $ 4.71\\nDiluted $ (4.65) $ 0.87 $ 4.56\\nWeighted-average shares used to compute net income (loss) per share attributable to\\ncommon stockholders:\\nBasic 1,972,131 2,035,651 2,094,602\\nDiluted 1,974,928 2,091,782 2,150,508\\nThe accompanying notes are an integral part of these consolidated financial statements.\\n75',\n",
       "   '15, 2026, and interim periods within fiscal years beginning after December 15, 2027. Early adoption is permitted. We are currently\\nevaluating the impact of this accounting standard update on our consolidated financial statements and related disclosures.\\nNote 2 – Revenue\\nThe following tables present our revenues disaggregated by offering and geographical region. Revenue by geographical region is\\nbased on where the transaction occurred. This level of disaggregation takes into consideration how the nature, amount, timing, and\\nuncertainty of revenue and cash flows are affected by economic factors (in millions):\\nYear Ended December 31,\\n2022 2023 2024\\nMobility revenue (1) $ 14,029 $ 19,832 $ 25,087\\nDelivery revenue (1) 10,901 12,204 13,750\\nFreight revenue 6,947 5,245 5,141\\nTotal revenue $ 31,877 $ 37,281 $ 43,978\\n(1) We offer subscription memberships to end-users including Uber One, Uber Pass, Rides Pass, and Eats Pass (“Subscription”).\\nWe recognize Subscription fees ratably over the life of the pass. We allocate Subscription fees earned to Mobility and Delivery\\nrevenue on a proportional basis, based on usage for each offering during the respective period.\\nYear Ended December 31,\\n2022 2023 2024\\nUnited States and Canada (\"US&CAN\") $ 19,474 $ 20,436 $ 23,618\\nLatin America (\"LatAm\") 1,978 2,512 2,795\\nEurope, Middle East and Africa (\"EMEA\") 6,944 9,904 12,529\\nAsia Pacific (\"APAC\") 3,481 4,429 5,036\\nTotal revenue $ 31,877 $ 37,281 $ 43,978\\nRevenue\\nMobility Revenue\\nWe derive revenue from fees paid by Mobility Drivers for the use of our platform(s) and related services to facilitate and complete\\nMobility services and, in certain markets, revenue from fees paid by end-users for connection services obtained via the platform.\\nMobility revenue also includes immaterial revenue streams such as our financial partnerships products.\\nAdditionally, in certain markets where we are responsible for Mobility services, fees charged to end-users are also included in\\nrevenue, while payments to Drivers in exchange for Mobility services are recognized in cost of revenue, exclusive of depreciation and\\namortization.\\nDelivery Revenue\\nWe derive revenue for Delivery from Merchants’ and Couriers’ use of the Delivery platform and related service to facilitate and\\ncomplete Delivery transactions and, in certain markets, revenue from fees paid by end-users for connection services obtained via the\\nplatform.\\nAdditionally, in certain markets where we are responsible for Delivery services, delivery fees charged to end-users are also\\nincluded in revenue, while payments to Couriers in exchange for Delivery services are recognized in cost of revenue, exclusive of\\ndepreciation and amortization. Delivery also includes advertising revenue from sponsored listing fees paid by Merchants and brands in\\nexchange for advertising services.\\nFreight Revenue\\nFreight revenue consists of revenue from freight transportation services provided to shippers and transportation management.\\n94',\n",
       "   'The following table sets forth the components of our consolidated statements of operations for each of the periods presented as a\\npercentage of revenue (1):\\nYear Ended December 31,\\n2023 2024\\nRevenue 100 % 100 %\\nCosts and expenses\\nCost of revenue, exclusive of depreciation and amortization shown separately below 60 % 61 %\\nOperations and support 7 % 6 %\\nSales and marketing 12 % 10 %\\nResearch and development 8 % 7 %\\nGeneral and administrative 7 % 8 %\\nDepreciation and amortization 2 % 2 %\\nTotal costs and expenses 97 % 94 %\\nIncome from operations 3 % 6 %\\nInterest expense (2) % (1) %\\nOther income (expense), net 5 % 4 %\\nIncome before income taxes and income (loss) from equity method investments 6 % 9 %\\nProvision for (benefit from) income taxes 1 % (13) %\\nIncome (loss) from equity method investments — % — %\\nNet income including non-controlling interests 6 % 22 %\\nLess: net income (loss) attributable to non-controlling interests, net of tax 1 % — %\\nNet income attributable to Uber Technologies, Inc. 5 % 22 %\\n(1) Totals of percentage of revenues may not foot due to rounding.\\nComparison of the Years Ended December 31, 2023 and 2024\\nRevenue\\nYear Ended December 31,\\n(In millions, except percentages) 2023 2024 % Change\\nRevenue $ 37,281 $ 43,978 18 %\\n2024 Compared to 2023\\nRevenue increased $6.7 billion, or 18% year-over-year, primarily attributable to an increase in Gross Bookings of 18%. The\\nincrease in Gross Bookings was primarily driven by an increase in Mobility and Delivery Trip volumes. The increase in revenue was\\npartially offset by business model changes in some countries that classified certain sales and marketing costs as contra revenue, which\\nnegatively impacted revenue by $863 million and $713 million across Mobility and Delivery, respectively.\\nCost of Revenue, Exclusive of Depreciation and Amortization\\nYear Ended December 31,\\n(In millions, except percentages) 2023 2024 % Change\\nCost of revenue, exclusive of depreciation and amortization $ 22,457 $ 26,651 19 %\\nPercentage of revenue 60 % 61 %\\n2024 Compared to 2023\\nCost of revenue, exclusive of depreciation and amortization, increased $4.2 billion, or 19%, mainly due to a $1.3 billion increase\\nin insurance expense primarily due to an increase in insurance rate per mile and miles driven in our Mobility business, a $1.3 billion\\nincrease in Driver payments and incentives that are recorded in cost of revenue, exclusive of depreciation and amortization, as a result\\nof increased Mobility Gross Bookings in certain markets, a $718 million increase in Courier payments and incentives that are recorded\\nin cost of revenue, exclusive of depreciation and amortization, as a result of increased Delivery Gross Bookings in certain markets,\\nand a $303 million increase in credit card processing costs, as a result of increased Gross Bookings.\\nOperations and Support\\n54']],\n",
       " 'uris': None,\n",
       " 'included': ['metadatas', 'documents', 'distances'],\n",
       " 'data': None,\n",
       " 'metadatas': [[{'Type': 'text',\n",
       "    'Split': '0',\n",
       "    'Page': '79',\n",
       "    'Document': 'Uber-2024-Annual-Report'},\n",
       "   {'Split': '0',\n",
       "    'Type': 'text',\n",
       "    'Document': 'Uber-2024-Annual-Report',\n",
       "    'Page': '98'},\n",
       "   {'Page': '58',\n",
       "    'Type': 'text',\n",
       "    'Document': 'Uber-2024-Annual-Report',\n",
       "    'Split': '0'}]],\n",
       " 'distances': [[0.5836783051490784, 0.6543114185333252, 0.7018038034439087]]}"
      ]
     },
     "execution_count": 13,
     "metadata": {},
     "output_type": "execute_result"
    }
   ],
   "source": [
    "query = \"What is the revenue of Uber?\"\n",
    "results = get_chroma_results(query=query)\n",
    "results"
   ]
  },
  {
   "cell_type": "code",
   "execution_count": 20,
   "id": "5e90c562",
   "metadata": {},
   "outputs": [
    {
     "name": "stdout",
     "output_type": "stream",
     "text": [
      "Returning from query: What is the revenue of Uber? cache with score: 0.9118\n"
     ]
    },
    {
     "data": {
      "text/plain": [
       "{'ids': [['Uber-2024-Annual-Report_p79_s0',\n",
       "   'Uber-2024-Annual-Report_p98_s0',\n",
       "   'Uber-2024-Annual-Report_p58_s0']],\n",
       " 'embeddings': None,\n",
       " 'documents': [['UBER TECHNOLOGIES, INC.\\nCONSOLIDATED STATEMENTS OF OPERATIONS\\n(In millions, except share amounts which are reflected in thousands, and per share amounts)\\nYear Ended December 31,\\n2022 2023 2024\\nRevenue $ 31,877 $ 37,281 $ 43,978\\nCosts and expenses\\nCost of revenue, exclusive of depreciation and amortization shown separately below 19,659 22,457 26,651\\nOperations and support 2,413 2,689 2,732\\nSales and marketing 4,756 4,356 4,337\\nResearch and development 2,798 3,164 3,109\\nGeneral and administrative 3,136 2,682 3,639\\nDepreciation and amortization 947 823 711\\nTotal costs and expenses 33,709 36,171 41,179\\nIncome (loss) from operations (1,832) 1,110 2,799\\nInterest expense (565) (633) (523)\\nOther income (expense), net (7,029) 1,844 1,849\\nIncome (loss) before income taxes and income (loss) from equity method investments (9,426) 2,321 4,125\\nProvision for (benefit from) income taxes (181) 213 (5,758)\\nIncome (loss) from equity method investments 107 48 (38)\\nNet income (loss) including non-controlling interests (9,138) 2,156 9,845\\nLess: net income (loss) attributable to non-controlling interests, net of tax 3 269 (11)\\nNet income (loss) attributable to Uber Technologies, Inc. $ (9,141) $ 1,887 $ 9,856\\nNet income (loss) per share attributable to Uber Technologies, Inc. common\\nstockholders:\\nBasic $ (4.64) $ 0.93 $ 4.71\\nDiluted $ (4.65) $ 0.87 $ 4.56\\nWeighted-average shares used to compute net income (loss) per share attributable to\\ncommon stockholders:\\nBasic 1,972,131 2,035,651 2,094,602\\nDiluted 1,974,928 2,091,782 2,150,508\\nThe accompanying notes are an integral part of these consolidated financial statements.\\n75',\n",
       "   '15, 2026, and interim periods within fiscal years beginning after December 15, 2027. Early adoption is permitted. We are currently\\nevaluating the impact of this accounting standard update on our consolidated financial statements and related disclosures.\\nNote 2 – Revenue\\nThe following tables present our revenues disaggregated by offering and geographical region. Revenue by geographical region is\\nbased on where the transaction occurred. This level of disaggregation takes into consideration how the nature, amount, timing, and\\nuncertainty of revenue and cash flows are affected by economic factors (in millions):\\nYear Ended December 31,\\n2022 2023 2024\\nMobility revenue (1) $ 14,029 $ 19,832 $ 25,087\\nDelivery revenue (1) 10,901 12,204 13,750\\nFreight revenue 6,947 5,245 5,141\\nTotal revenue $ 31,877 $ 37,281 $ 43,978\\n(1) We offer subscription memberships to end-users including Uber One, Uber Pass, Rides Pass, and Eats Pass (“Subscription”).\\nWe recognize Subscription fees ratably over the life of the pass. We allocate Subscription fees earned to Mobility and Delivery\\nrevenue on a proportional basis, based on usage for each offering during the respective period.\\nYear Ended December 31,\\n2022 2023 2024\\nUnited States and Canada (\"US&CAN\") $ 19,474 $ 20,436 $ 23,618\\nLatin America (\"LatAm\") 1,978 2,512 2,795\\nEurope, Middle East and Africa (\"EMEA\") 6,944 9,904 12,529\\nAsia Pacific (\"APAC\") 3,481 4,429 5,036\\nTotal revenue $ 31,877 $ 37,281 $ 43,978\\nRevenue\\nMobility Revenue\\nWe derive revenue from fees paid by Mobility Drivers for the use of our platform(s) and related services to facilitate and complete\\nMobility services and, in certain markets, revenue from fees paid by end-users for connection services obtained via the platform.\\nMobility revenue also includes immaterial revenue streams such as our financial partnerships products.\\nAdditionally, in certain markets where we are responsible for Mobility services, fees charged to end-users are also included in\\nrevenue, while payments to Drivers in exchange for Mobility services are recognized in cost of revenue, exclusive of depreciation and\\namortization.\\nDelivery Revenue\\nWe derive revenue for Delivery from Merchants’ and Couriers’ use of the Delivery platform and related service to facilitate and\\ncomplete Delivery transactions and, in certain markets, revenue from fees paid by end-users for connection services obtained via the\\nplatform.\\nAdditionally, in certain markets where we are responsible for Delivery services, delivery fees charged to end-users are also\\nincluded in revenue, while payments to Couriers in exchange for Delivery services are recognized in cost of revenue, exclusive of\\ndepreciation and amortization. Delivery also includes advertising revenue from sponsored listing fees paid by Merchants and brands in\\nexchange for advertising services.\\nFreight Revenue\\nFreight revenue consists of revenue from freight transportation services provided to shippers and transportation management.\\n94',\n",
       "   'The following table sets forth the components of our consolidated statements of operations for each of the periods presented as a\\npercentage of revenue (1):\\nYear Ended December 31,\\n2023 2024\\nRevenue 100 % 100 %\\nCosts and expenses\\nCost of revenue, exclusive of depreciation and amortization shown separately below 60 % 61 %\\nOperations and support 7 % 6 %\\nSales and marketing 12 % 10 %\\nResearch and development 8 % 7 %\\nGeneral and administrative 7 % 8 %\\nDepreciation and amortization 2 % 2 %\\nTotal costs and expenses 97 % 94 %\\nIncome from operations 3 % 6 %\\nInterest expense (2) % (1) %\\nOther income (expense), net 5 % 4 %\\nIncome before income taxes and income (loss) from equity method investments 6 % 9 %\\nProvision for (benefit from) income taxes 1 % (13) %\\nIncome (loss) from equity method investments — % — %\\nNet income including non-controlling interests 6 % 22 %\\nLess: net income (loss) attributable to non-controlling interests, net of tax 1 % — %\\nNet income attributable to Uber Technologies, Inc. 5 % 22 %\\n(1) Totals of percentage of revenues may not foot due to rounding.\\nComparison of the Years Ended December 31, 2023 and 2024\\nRevenue\\nYear Ended December 31,\\n(In millions, except percentages) 2023 2024 % Change\\nRevenue $ 37,281 $ 43,978 18 %\\n2024 Compared to 2023\\nRevenue increased $6.7 billion, or 18% year-over-year, primarily attributable to an increase in Gross Bookings of 18%. The\\nincrease in Gross Bookings was primarily driven by an increase in Mobility and Delivery Trip volumes. The increase in revenue was\\npartially offset by business model changes in some countries that classified certain sales and marketing costs as contra revenue, which\\nnegatively impacted revenue by $863 million and $713 million across Mobility and Delivery, respectively.\\nCost of Revenue, Exclusive of Depreciation and Amortization\\nYear Ended December 31,\\n(In millions, except percentages) 2023 2024 % Change\\nCost of revenue, exclusive of depreciation and amortization $ 22,457 $ 26,651 19 %\\nPercentage of revenue 60 % 61 %\\n2024 Compared to 2023\\nCost of revenue, exclusive of depreciation and amortization, increased $4.2 billion, or 19%, mainly due to a $1.3 billion increase\\nin insurance expense primarily due to an increase in insurance rate per mile and miles driven in our Mobility business, a $1.3 billion\\nincrease in Driver payments and incentives that are recorded in cost of revenue, exclusive of depreciation and amortization, as a result\\nof increased Mobility Gross Bookings in certain markets, a $718 million increase in Courier payments and incentives that are recorded\\nin cost of revenue, exclusive of depreciation and amortization, as a result of increased Delivery Gross Bookings in certain markets,\\nand a $303 million increase in credit card processing costs, as a result of increased Gross Bookings.\\nOperations and Support\\n54']],\n",
       " 'uris': None,\n",
       " 'included': ['metadatas', 'documents', 'distances'],\n",
       " 'data': None,\n",
       " 'metadatas': [[{'Type': 'text',\n",
       "    'Split': '0',\n",
       "    'Page': '79',\n",
       "    'Document': 'Uber-2024-Annual-Report'},\n",
       "   {'Split': '0',\n",
       "    'Type': 'text',\n",
       "    'Document': 'Uber-2024-Annual-Report',\n",
       "    'Page': '98'},\n",
       "   {'Page': '58',\n",
       "    'Type': 'text',\n",
       "    'Document': 'Uber-2024-Annual-Report',\n",
       "    'Split': '0'}]],\n",
       " 'distances': [[0.5836783051490784, 0.6543114185333252, 0.7018038034439087]]}"
      ]
     },
     "execution_count": 20,
     "metadata": {},
     "output_type": "execute_result"
    }
   ],
   "source": [
    "query = \"What is the profit of Uber?\"\n",
    "results = get_chroma_results(query=query)\n",
    "results"
   ]
  },
  {
   "cell_type": "code",
   "execution_count": 21,
   "id": "38bbb07b",
   "metadata": {},
   "outputs": [
    {
     "data": {
      "text/plain": [
       "{'ids': [['Uber-2024-Annual-Report_p84_s0',\n",
       "   'Uber-2024-Annual-Report_p79_s0',\n",
       "   'Uber-2024-Annual-Report_p98_s0']],\n",
       " 'embeddings': None,\n",
       " 'documents': [['UBER TECHNOLOGIES, INC.\\nCONSOLIDATED STATEMENTS OF CASH FLOWS\\n(In millions)\\nYear Ended December 31,\\n2022 2023 2024\\nCash flows from operating activities\\nNet income (loss) including non-controlling interests $ (9,138) $ 2,156 $ 9,845\\nAdjustments to reconcile net income (loss) to net cash provided by operating activities:\\nDepreciation and amortization 947 823 737\\nBad debt expense 114 92 61\\nStock-based compensation 1,793 1,935 1,796\\nLoss from sale of investments — 74 —\\nGain on business divestitures (14) (204) —\\nDeferred income taxes (441) 26 (6,027)\\nAccretion of discounts on marketable debt securities, net (9) (154) (251)\\nImpairments of goodwill, long-lived assets and other assets 28 86 —\\nImpairment of equity method investment 182 — —\\nLoss (income) from equity method investments, net (107) (48) 38\\nUnrealized (gain) loss on debt and equity securities, net 7,045 (1,610) (1,832)\\nRevaluation of MLU B.V. call option (191) — —\\nUnrealized foreign currency transactions 96 138 308\\nOther 2 106 88\\nChange in assets and liabilities, net of impact of business acquisitions and disposals:\\nAccounts receivable (542) (758) (142)\\nPrepaid expenses and other assets (196) (1,462) (694)\\nOperating lease right-of-use assets 193 191 196\\nAccounts payable (133) 64 86\\nAccrued insurance reserves 730 2,230 2,819\\nAccrued expenses and other liabilities 498 80 330\\nOperating lease liabilities (215) (180) (221)\\nNet cash provided by operating activities 642 3,585 7,137\\nCash flows from investing activities\\nPurchases of property and equipment (252) (223) (242)\\nPurchases of non-marketable equity securities (14) (52) (289)\\nPurchases of marketable securities (1,708) (8,774) (12,765)\\nProceeds from maturities and sales of marketable securities 376 5,069 10,204\\nProceeds from sale of equity method investments — 721 17\\nProceeds from business divestiture 26 — —\\nAcquisition of businesses, net of cash acquired (59) — —\\nOther investing activities (6) 33 (102)\\nNet cash used in investing activities (1,637) (3,226) (3,177)\\nCash flows from financing activities\\nProceeds from issuance and sale of subsidiary stock units 255 — —\\nProceeds from the issuance of common stock under the Employee Stock Purchase Plan 92 130 156\\nIssuance of term loan and notes, net of issuance costs — 2,824 3,972\\nPurchase of Capped Calls — (141) —\\nPrincipal repayment on term loan and notes — (2,675) (3,986)\\nPrincipal repayment on Careem Notes (80) (25) —\\n80',\n",
       "   'UBER TECHNOLOGIES, INC.\\nCONSOLIDATED STATEMENTS OF OPERATIONS\\n(In millions, except share amounts which are reflected in thousands, and per share amounts)\\nYear Ended December 31,\\n2022 2023 2024\\nRevenue $ 31,877 $ 37,281 $ 43,978\\nCosts and expenses\\nCost of revenue, exclusive of depreciation and amortization shown separately below 19,659 22,457 26,651\\nOperations and support 2,413 2,689 2,732\\nSales and marketing 4,756 4,356 4,337\\nResearch and development 2,798 3,164 3,109\\nGeneral and administrative 3,136 2,682 3,639\\nDepreciation and amortization 947 823 711\\nTotal costs and expenses 33,709 36,171 41,179\\nIncome (loss) from operations (1,832) 1,110 2,799\\nInterest expense (565) (633) (523)\\nOther income (expense), net (7,029) 1,844 1,849\\nIncome (loss) before income taxes and income (loss) from equity method investments (9,426) 2,321 4,125\\nProvision for (benefit from) income taxes (181) 213 (5,758)\\nIncome (loss) from equity method investments 107 48 (38)\\nNet income (loss) including non-controlling interests (9,138) 2,156 9,845\\nLess: net income (loss) attributable to non-controlling interests, net of tax 3 269 (11)\\nNet income (loss) attributable to Uber Technologies, Inc. $ (9,141) $ 1,887 $ 9,856\\nNet income (loss) per share attributable to Uber Technologies, Inc. common\\nstockholders:\\nBasic $ (4.64) $ 0.93 $ 4.71\\nDiluted $ (4.65) $ 0.87 $ 4.56\\nWeighted-average shares used to compute net income (loss) per share attributable to\\ncommon stockholders:\\nBasic 1,972,131 2,035,651 2,094,602\\nDiluted 1,974,928 2,091,782 2,150,508\\nThe accompanying notes are an integral part of these consolidated financial statements.\\n75',\n",
       "   '15, 2026, and interim periods within fiscal years beginning after December 15, 2027. Early adoption is permitted. We are currently\\nevaluating the impact of this accounting standard update on our consolidated financial statements and related disclosures.\\nNote 2 – Revenue\\nThe following tables present our revenues disaggregated by offering and geographical region. Revenue by geographical region is\\nbased on where the transaction occurred. This level of disaggregation takes into consideration how the nature, amount, timing, and\\nuncertainty of revenue and cash flows are affected by economic factors (in millions):\\nYear Ended December 31,\\n2022 2023 2024\\nMobility revenue (1) $ 14,029 $ 19,832 $ 25,087\\nDelivery revenue (1) 10,901 12,204 13,750\\nFreight revenue 6,947 5,245 5,141\\nTotal revenue $ 31,877 $ 37,281 $ 43,978\\n(1) We offer subscription memberships to end-users including Uber One, Uber Pass, Rides Pass, and Eats Pass (“Subscription”).\\nWe recognize Subscription fees ratably over the life of the pass. We allocate Subscription fees earned to Mobility and Delivery\\nrevenue on a proportional basis, based on usage for each offering during the respective period.\\nYear Ended December 31,\\n2022 2023 2024\\nUnited States and Canada (\"US&CAN\") $ 19,474 $ 20,436 $ 23,618\\nLatin America (\"LatAm\") 1,978 2,512 2,795\\nEurope, Middle East and Africa (\"EMEA\") 6,944 9,904 12,529\\nAsia Pacific (\"APAC\") 3,481 4,429 5,036\\nTotal revenue $ 31,877 $ 37,281 $ 43,978\\nRevenue\\nMobility Revenue\\nWe derive revenue from fees paid by Mobility Drivers for the use of our platform(s) and related services to facilitate and complete\\nMobility services and, in certain markets, revenue from fees paid by end-users for connection services obtained via the platform.\\nMobility revenue also includes immaterial revenue streams such as our financial partnerships products.\\nAdditionally, in certain markets where we are responsible for Mobility services, fees charged to end-users are also included in\\nrevenue, while payments to Drivers in exchange for Mobility services are recognized in cost of revenue, exclusive of depreciation and\\namortization.\\nDelivery Revenue\\nWe derive revenue for Delivery from Merchants’ and Couriers’ use of the Delivery platform and related service to facilitate and\\ncomplete Delivery transactions and, in certain markets, revenue from fees paid by end-users for connection services obtained via the\\nplatform.\\nAdditionally, in certain markets where we are responsible for Delivery services, delivery fees charged to end-users are also\\nincluded in revenue, while payments to Couriers in exchange for Delivery services are recognized in cost of revenue, exclusive of\\ndepreciation and amortization. Delivery also includes advertising revenue from sponsored listing fees paid by Merchants and brands in\\nexchange for advertising services.\\nFreight Revenue\\nFreight revenue consists of revenue from freight transportation services provided to shippers and transportation management.\\n94']],\n",
       " 'uris': None,\n",
       " 'included': ['metadatas', 'documents', 'distances'],\n",
       " 'data': None,\n",
       " 'metadatas': [[{'Page': '84',\n",
       "    'Split': '0',\n",
       "    'Type': 'text',\n",
       "    'Document': 'Uber-2024-Annual-Report'},\n",
       "   {'Split': '0',\n",
       "    'Document': 'Uber-2024-Annual-Report',\n",
       "    'Page': '79',\n",
       "    'Type': 'text'},\n",
       "   {'Document': 'Uber-2024-Annual-Report',\n",
       "    'Split': '0',\n",
       "    'Page': '98',\n",
       "    'Type': 'text'}]],\n",
       " 'distances': [[0.7767624855041504, 0.8130463361740112, 0.8214389085769653]]}"
      ]
     },
     "execution_count": 21,
     "metadata": {},
     "output_type": "execute_result"
    }
   ],
   "source": [
    "query = \"What is the loss of Uber?\"\n",
    "results = get_chroma_results(query=query)\n",
    "results"
   ]
  },
  {
   "cell_type": "code",
   "execution_count": 22,
   "id": "7d0d8f52",
   "metadata": {},
   "outputs": [
    {
     "data": {
      "text/plain": [
       "{'ids': [['Uber-2024-Annual-Report_p98_s0',\n",
       "   'Uber-2024-Annual-Report_p79_s0',\n",
       "   'Uber-2024-Annual-Report_p84_s0']],\n",
       " 'embeddings': None,\n",
       " 'documents': [['15, 2026, and interim periods within fiscal years beginning after December 15, 2027. Early adoption is permitted. We are currently\\nevaluating the impact of this accounting standard update on our consolidated financial statements and related disclosures.\\nNote 2 – Revenue\\nThe following tables present our revenues disaggregated by offering and geographical region. Revenue by geographical region is\\nbased on where the transaction occurred. This level of disaggregation takes into consideration how the nature, amount, timing, and\\nuncertainty of revenue and cash flows are affected by economic factors (in millions):\\nYear Ended December 31,\\n2022 2023 2024\\nMobility revenue (1) $ 14,029 $ 19,832 $ 25,087\\nDelivery revenue (1) 10,901 12,204 13,750\\nFreight revenue 6,947 5,245 5,141\\nTotal revenue $ 31,877 $ 37,281 $ 43,978\\n(1) We offer subscription memberships to end-users including Uber One, Uber Pass, Rides Pass, and Eats Pass (“Subscription”).\\nWe recognize Subscription fees ratably over the life of the pass. We allocate Subscription fees earned to Mobility and Delivery\\nrevenue on a proportional basis, based on usage for each offering during the respective period.\\nYear Ended December 31,\\n2022 2023 2024\\nUnited States and Canada (\"US&CAN\") $ 19,474 $ 20,436 $ 23,618\\nLatin America (\"LatAm\") 1,978 2,512 2,795\\nEurope, Middle East and Africa (\"EMEA\") 6,944 9,904 12,529\\nAsia Pacific (\"APAC\") 3,481 4,429 5,036\\nTotal revenue $ 31,877 $ 37,281 $ 43,978\\nRevenue\\nMobility Revenue\\nWe derive revenue from fees paid by Mobility Drivers for the use of our platform(s) and related services to facilitate and complete\\nMobility services and, in certain markets, revenue from fees paid by end-users for connection services obtained via the platform.\\nMobility revenue also includes immaterial revenue streams such as our financial partnerships products.\\nAdditionally, in certain markets where we are responsible for Mobility services, fees charged to end-users are also included in\\nrevenue, while payments to Drivers in exchange for Mobility services are recognized in cost of revenue, exclusive of depreciation and\\namortization.\\nDelivery Revenue\\nWe derive revenue for Delivery from Merchants’ and Couriers’ use of the Delivery platform and related service to facilitate and\\ncomplete Delivery transactions and, in certain markets, revenue from fees paid by end-users for connection services obtained via the\\nplatform.\\nAdditionally, in certain markets where we are responsible for Delivery services, delivery fees charged to end-users are also\\nincluded in revenue, while payments to Couriers in exchange for Delivery services are recognized in cost of revenue, exclusive of\\ndepreciation and amortization. Delivery also includes advertising revenue from sponsored listing fees paid by Merchants and brands in\\nexchange for advertising services.\\nFreight Revenue\\nFreight revenue consists of revenue from freight transportation services provided to shippers and transportation management.\\n94',\n",
       "   'UBER TECHNOLOGIES, INC.\\nCONSOLIDATED STATEMENTS OF OPERATIONS\\n(In millions, except share amounts which are reflected in thousands, and per share amounts)\\nYear Ended December 31,\\n2022 2023 2024\\nRevenue $ 31,877 $ 37,281 $ 43,978\\nCosts and expenses\\nCost of revenue, exclusive of depreciation and amortization shown separately below 19,659 22,457 26,651\\nOperations and support 2,413 2,689 2,732\\nSales and marketing 4,756 4,356 4,337\\nResearch and development 2,798 3,164 3,109\\nGeneral and administrative 3,136 2,682 3,639\\nDepreciation and amortization 947 823 711\\nTotal costs and expenses 33,709 36,171 41,179\\nIncome (loss) from operations (1,832) 1,110 2,799\\nInterest expense (565) (633) (523)\\nOther income (expense), net (7,029) 1,844 1,849\\nIncome (loss) before income taxes and income (loss) from equity method investments (9,426) 2,321 4,125\\nProvision for (benefit from) income taxes (181) 213 (5,758)\\nIncome (loss) from equity method investments 107 48 (38)\\nNet income (loss) including non-controlling interests (9,138) 2,156 9,845\\nLess: net income (loss) attributable to non-controlling interests, net of tax 3 269 (11)\\nNet income (loss) attributable to Uber Technologies, Inc. $ (9,141) $ 1,887 $ 9,856\\nNet income (loss) per share attributable to Uber Technologies, Inc. common\\nstockholders:\\nBasic $ (4.64) $ 0.93 $ 4.71\\nDiluted $ (4.65) $ 0.87 $ 4.56\\nWeighted-average shares used to compute net income (loss) per share attributable to\\ncommon stockholders:\\nBasic 1,972,131 2,035,651 2,094,602\\nDiluted 1,974,928 2,091,782 2,150,508\\nThe accompanying notes are an integral part of these consolidated financial statements.\\n75',\n",
       "   'UBER TECHNOLOGIES, INC.\\nCONSOLIDATED STATEMENTS OF CASH FLOWS\\n(In millions)\\nYear Ended December 31,\\n2022 2023 2024\\nCash flows from operating activities\\nNet income (loss) including non-controlling interests $ (9,138) $ 2,156 $ 9,845\\nAdjustments to reconcile net income (loss) to net cash provided by operating activities:\\nDepreciation and amortization 947 823 737\\nBad debt expense 114 92 61\\nStock-based compensation 1,793 1,935 1,796\\nLoss from sale of investments — 74 —\\nGain on business divestitures (14) (204) —\\nDeferred income taxes (441) 26 (6,027)\\nAccretion of discounts on marketable debt securities, net (9) (154) (251)\\nImpairments of goodwill, long-lived assets and other assets 28 86 —\\nImpairment of equity method investment 182 — —\\nLoss (income) from equity method investments, net (107) (48) 38\\nUnrealized (gain) loss on debt and equity securities, net 7,045 (1,610) (1,832)\\nRevaluation of MLU B.V. call option (191) — —\\nUnrealized foreign currency transactions 96 138 308\\nOther 2 106 88\\nChange in assets and liabilities, net of impact of business acquisitions and disposals:\\nAccounts receivable (542) (758) (142)\\nPrepaid expenses and other assets (196) (1,462) (694)\\nOperating lease right-of-use assets 193 191 196\\nAccounts payable (133) 64 86\\nAccrued insurance reserves 730 2,230 2,819\\nAccrued expenses and other liabilities 498 80 330\\nOperating lease liabilities (215) (180) (221)\\nNet cash provided by operating activities 642 3,585 7,137\\nCash flows from investing activities\\nPurchases of property and equipment (252) (223) (242)\\nPurchases of non-marketable equity securities (14) (52) (289)\\nPurchases of marketable securities (1,708) (8,774) (12,765)\\nProceeds from maturities and sales of marketable securities 376 5,069 10,204\\nProceeds from sale of equity method investments — 721 17\\nProceeds from business divestiture 26 — —\\nAcquisition of businesses, net of cash acquired (59) — —\\nOther investing activities (6) 33 (102)\\nNet cash used in investing activities (1,637) (3,226) (3,177)\\nCash flows from financing activities\\nProceeds from issuance and sale of subsidiary stock units 255 — —\\nProceeds from the issuance of common stock under the Employee Stock Purchase Plan 92 130 156\\nIssuance of term loan and notes, net of issuance costs — 2,824 3,972\\nPurchase of Capped Calls — (141) —\\nPrincipal repayment on term loan and notes — (2,675) (3,986)\\nPrincipal repayment on Careem Notes (80) (25) —\\n80']],\n",
       " 'uris': None,\n",
       " 'included': ['metadatas', 'documents', 'distances'],\n",
       " 'data': None,\n",
       " 'metadatas': [[{'Document': 'Uber-2024-Annual-Report',\n",
       "    'Page': '98',\n",
       "    'Type': 'text',\n",
       "    'Split': '0'},\n",
       "   {'Split': '0',\n",
       "    'Type': 'text',\n",
       "    'Page': '79',\n",
       "    'Document': 'Uber-2024-Annual-Report'},\n",
       "   {'Type': 'text',\n",
       "    'Split': '0',\n",
       "    'Page': '84',\n",
       "    'Document': 'Uber-2024-Annual-Report'}]],\n",
       " 'distances': [[0.7693213224411011, 0.7944109439849854, 0.8136191964149475]]}"
      ]
     },
     "execution_count": 22,
     "metadata": {},
     "output_type": "execute_result"
    }
   ],
   "source": [
    "query = \"How much degrade for Uber?\"\n",
    "results = get_chroma_results(query=query)\n",
    "results"
   ]
  },
  {
   "cell_type": "code",
   "execution_count": 23,
   "id": "07c2ce7e",
   "metadata": {},
   "outputs": [
    {
     "data": {
      "text/plain": [
       "{'ids': [['Uber-2024-Annual-Report_p84_s0',\n",
       "   'Uber-2024-Annual-Report_p79_s0',\n",
       "   'Uber-2024-Annual-Report_p78_s0']],\n",
       " 'embeddings': None,\n",
       " 'documents': [['UBER TECHNOLOGIES, INC.\\nCONSOLIDATED STATEMENTS OF CASH FLOWS\\n(In millions)\\nYear Ended December 31,\\n2022 2023 2024\\nCash flows from operating activities\\nNet income (loss) including non-controlling interests $ (9,138) $ 2,156 $ 9,845\\nAdjustments to reconcile net income (loss) to net cash provided by operating activities:\\nDepreciation and amortization 947 823 737\\nBad debt expense 114 92 61\\nStock-based compensation 1,793 1,935 1,796\\nLoss from sale of investments — 74 —\\nGain on business divestitures (14) (204) —\\nDeferred income taxes (441) 26 (6,027)\\nAccretion of discounts on marketable debt securities, net (9) (154) (251)\\nImpairments of goodwill, long-lived assets and other assets 28 86 —\\nImpairment of equity method investment 182 — —\\nLoss (income) from equity method investments, net (107) (48) 38\\nUnrealized (gain) loss on debt and equity securities, net 7,045 (1,610) (1,832)\\nRevaluation of MLU B.V. call option (191) — —\\nUnrealized foreign currency transactions 96 138 308\\nOther 2 106 88\\nChange in assets and liabilities, net of impact of business acquisitions and disposals:\\nAccounts receivable (542) (758) (142)\\nPrepaid expenses and other assets (196) (1,462) (694)\\nOperating lease right-of-use assets 193 191 196\\nAccounts payable (133) 64 86\\nAccrued insurance reserves 730 2,230 2,819\\nAccrued expenses and other liabilities 498 80 330\\nOperating lease liabilities (215) (180) (221)\\nNet cash provided by operating activities 642 3,585 7,137\\nCash flows from investing activities\\nPurchases of property and equipment (252) (223) (242)\\nPurchases of non-marketable equity securities (14) (52) (289)\\nPurchases of marketable securities (1,708) (8,774) (12,765)\\nProceeds from maturities and sales of marketable securities 376 5,069 10,204\\nProceeds from sale of equity method investments — 721 17\\nProceeds from business divestiture 26 — —\\nAcquisition of businesses, net of cash acquired (59) — —\\nOther investing activities (6) 33 (102)\\nNet cash used in investing activities (1,637) (3,226) (3,177)\\nCash flows from financing activities\\nProceeds from issuance and sale of subsidiary stock units 255 — —\\nProceeds from the issuance of common stock under the Employee Stock Purchase Plan 92 130 156\\nIssuance of term loan and notes, net of issuance costs — 2,824 3,972\\nPurchase of Capped Calls — (141) —\\nPrincipal repayment on term loan and notes — (2,675) (3,986)\\nPrincipal repayment on Careem Notes (80) (25) —\\n80',\n",
       "   'UBER TECHNOLOGIES, INC.\\nCONSOLIDATED STATEMENTS OF OPERATIONS\\n(In millions, except share amounts which are reflected in thousands, and per share amounts)\\nYear Ended December 31,\\n2022 2023 2024\\nRevenue $ 31,877 $ 37,281 $ 43,978\\nCosts and expenses\\nCost of revenue, exclusive of depreciation and amortization shown separately below 19,659 22,457 26,651\\nOperations and support 2,413 2,689 2,732\\nSales and marketing 4,756 4,356 4,337\\nResearch and development 2,798 3,164 3,109\\nGeneral and administrative 3,136 2,682 3,639\\nDepreciation and amortization 947 823 711\\nTotal costs and expenses 33,709 36,171 41,179\\nIncome (loss) from operations (1,832) 1,110 2,799\\nInterest expense (565) (633) (523)\\nOther income (expense), net (7,029) 1,844 1,849\\nIncome (loss) before income taxes and income (loss) from equity method investments (9,426) 2,321 4,125\\nProvision for (benefit from) income taxes (181) 213 (5,758)\\nIncome (loss) from equity method investments 107 48 (38)\\nNet income (loss) including non-controlling interests (9,138) 2,156 9,845\\nLess: net income (loss) attributable to non-controlling interests, net of tax 3 269 (11)\\nNet income (loss) attributable to Uber Technologies, Inc. $ (9,141) $ 1,887 $ 9,856\\nNet income (loss) per share attributable to Uber Technologies, Inc. common\\nstockholders:\\nBasic $ (4.64) $ 0.93 $ 4.71\\nDiluted $ (4.65) $ 0.87 $ 4.56\\nWeighted-average shares used to compute net income (loss) per share attributable to\\ncommon stockholders:\\nBasic 1,972,131 2,035,651 2,094,602\\nDiluted 1,974,928 2,091,782 2,150,508\\nThe accompanying notes are an integral part of these consolidated financial statements.\\n75',\n",
       "   \"UBER TECHNOLOGIES, INC.\\nCONSOLIDATED BALANCE SHEETS\\n(In millions, except share amounts which are reflected in thousands, and per share amounts)\\nAs of December 31, 2023 As of December 31, 2024\\nAssets\\nCash and cash equivalents $ 4,680 $ 5,893\\nShort-term investments 727 1,084\\nRestricted cash and cash equivalents 805 545\\nAccounts receivable, net of allowance of $91 and $95, respectively 3,404 3,333\\nPrepaid expenses and other current assets 1,681 1,390\\nTotal current assets 11,297 12,245\\nRestricted cash and cash equivalents 1,519 2,172\\nRestricted investments 4,779 7,019\\nInvestments 6,101 8,460\\nEquity method investments 353 302\\nProperty and equipment, net 2,073 1,952\\nOperating lease right-of-use assets 1,241 1,158\\nIntangible assets, net 1,425 1,125\\nGoodwill 8,151 8,066\\nDeferred tax assets 170 6,171\\nOther assets 1,590 2,574\\nTotal assets $ 38,699 $ 51,244\\nLiabilities, redeemable non-controlling interests and equity\\nAccounts payable $ 790 $ 858\\nShort-term insurance reserves 2,077 2,754\\nOperating lease liabilities, current 190 175\\nAccrued and other current liabilities 6,397 7,689\\nTotal current liabilities 9,454 11,476\\nLong-term insurance reserves 4,909 7,042\\nLong-term debt, net of current portion 9,459 8,347\\nOperating lease liabilities, non-current 1,550 1,454\\nOther long-term liabilities 645 449\\nTotal liabilities 26,017 28,768\\nCommitments and contingencies (Note 14)\\nRedeemable non-controlling interests 654 93\\nEquity\\nCommon stock, $0.00001 par value, 5,000,000 shares authorized for both\\nperiods, 2,071,144 and 2,107,953 shares issued and outstanding,\\nrespectively — —\\nAdditional paid-in capital 42,264 42,801\\nAccumulated other comprehensive loss (421) (517)\\nAccumulated deficit (30,594) (20,726)\\nTotal Uber Technologies, Inc. stockholders' equity 11,249 21,558\\nNon-redeemable non-controlling interests 779 825\\nTotal equity 12,028 22,383\\nTotal liabilities, redeemable non-controlling interests and equity $ 38,699 $ 51,244\\nThe accompanying notes are an integral part of these consolidated financial statements.\\n74\"]],\n",
       " 'uris': None,\n",
       " 'included': ['metadatas', 'documents', 'distances'],\n",
       " 'data': None,\n",
       " 'metadatas': [[{'Document': 'Uber-2024-Annual-Report',\n",
       "    'Type': 'text',\n",
       "    'Page': '84',\n",
       "    'Split': '0'},\n",
       "   {'Document': 'Uber-2024-Annual-Report',\n",
       "    'Split': '0',\n",
       "    'Type': 'text',\n",
       "    'Page': '79'},\n",
       "   {'Document': 'Uber-2024-Annual-Report',\n",
       "    'Page': '78',\n",
       "    'Type': 'text',\n",
       "    'Split': '0'}]],\n",
       " 'distances': [[0.7925822138786316, 0.8091403841972351, 0.8679798245429993]]}"
      ]
     },
     "execution_count": 23,
     "metadata": {},
     "output_type": "execute_result"
    }
   ],
   "source": [
    "query = \"How much negative margin for Uber?\"\n",
    "results = get_chroma_results(query=query)\n",
    "results"
   ]
  },
  {
   "cell_type": "code",
   "execution_count": 24,
   "id": "89c675cb",
   "metadata": {},
   "outputs": [
    {
     "name": "stdout",
     "output_type": "stream",
     "text": [
      "Returning from query: How much negative margin for Uber? cache with score: 0.8939\n"
     ]
    },
    {
     "data": {
      "text/plain": [
       "{'ids': [['Uber-2024-Annual-Report_p84_s0',\n",
       "   'Uber-2024-Annual-Report_p79_s0',\n",
       "   'Uber-2024-Annual-Report_p78_s0']],\n",
       " 'embeddings': None,\n",
       " 'documents': [['UBER TECHNOLOGIES, INC.\\nCONSOLIDATED STATEMENTS OF CASH FLOWS\\n(In millions)\\nYear Ended December 31,\\n2022 2023 2024\\nCash flows from operating activities\\nNet income (loss) including non-controlling interests $ (9,138) $ 2,156 $ 9,845\\nAdjustments to reconcile net income (loss) to net cash provided by operating activities:\\nDepreciation and amortization 947 823 737\\nBad debt expense 114 92 61\\nStock-based compensation 1,793 1,935 1,796\\nLoss from sale of investments — 74 —\\nGain on business divestitures (14) (204) —\\nDeferred income taxes (441) 26 (6,027)\\nAccretion of discounts on marketable debt securities, net (9) (154) (251)\\nImpairments of goodwill, long-lived assets and other assets 28 86 —\\nImpairment of equity method investment 182 — —\\nLoss (income) from equity method investments, net (107) (48) 38\\nUnrealized (gain) loss on debt and equity securities, net 7,045 (1,610) (1,832)\\nRevaluation of MLU B.V. call option (191) — —\\nUnrealized foreign currency transactions 96 138 308\\nOther 2 106 88\\nChange in assets and liabilities, net of impact of business acquisitions and disposals:\\nAccounts receivable (542) (758) (142)\\nPrepaid expenses and other assets (196) (1,462) (694)\\nOperating lease right-of-use assets 193 191 196\\nAccounts payable (133) 64 86\\nAccrued insurance reserves 730 2,230 2,819\\nAccrued expenses and other liabilities 498 80 330\\nOperating lease liabilities (215) (180) (221)\\nNet cash provided by operating activities 642 3,585 7,137\\nCash flows from investing activities\\nPurchases of property and equipment (252) (223) (242)\\nPurchases of non-marketable equity securities (14) (52) (289)\\nPurchases of marketable securities (1,708) (8,774) (12,765)\\nProceeds from maturities and sales of marketable securities 376 5,069 10,204\\nProceeds from sale of equity method investments — 721 17\\nProceeds from business divestiture 26 — —\\nAcquisition of businesses, net of cash acquired (59) — —\\nOther investing activities (6) 33 (102)\\nNet cash used in investing activities (1,637) (3,226) (3,177)\\nCash flows from financing activities\\nProceeds from issuance and sale of subsidiary stock units 255 — —\\nProceeds from the issuance of common stock under the Employee Stock Purchase Plan 92 130 156\\nIssuance of term loan and notes, net of issuance costs — 2,824 3,972\\nPurchase of Capped Calls — (141) —\\nPrincipal repayment on term loan and notes — (2,675) (3,986)\\nPrincipal repayment on Careem Notes (80) (25) —\\n80',\n",
       "   'UBER TECHNOLOGIES, INC.\\nCONSOLIDATED STATEMENTS OF OPERATIONS\\n(In millions, except share amounts which are reflected in thousands, and per share amounts)\\nYear Ended December 31,\\n2022 2023 2024\\nRevenue $ 31,877 $ 37,281 $ 43,978\\nCosts and expenses\\nCost of revenue, exclusive of depreciation and amortization shown separately below 19,659 22,457 26,651\\nOperations and support 2,413 2,689 2,732\\nSales and marketing 4,756 4,356 4,337\\nResearch and development 2,798 3,164 3,109\\nGeneral and administrative 3,136 2,682 3,639\\nDepreciation and amortization 947 823 711\\nTotal costs and expenses 33,709 36,171 41,179\\nIncome (loss) from operations (1,832) 1,110 2,799\\nInterest expense (565) (633) (523)\\nOther income (expense), net (7,029) 1,844 1,849\\nIncome (loss) before income taxes and income (loss) from equity method investments (9,426) 2,321 4,125\\nProvision for (benefit from) income taxes (181) 213 (5,758)\\nIncome (loss) from equity method investments 107 48 (38)\\nNet income (loss) including non-controlling interests (9,138) 2,156 9,845\\nLess: net income (loss) attributable to non-controlling interests, net of tax 3 269 (11)\\nNet income (loss) attributable to Uber Technologies, Inc. $ (9,141) $ 1,887 $ 9,856\\nNet income (loss) per share attributable to Uber Technologies, Inc. common\\nstockholders:\\nBasic $ (4.64) $ 0.93 $ 4.71\\nDiluted $ (4.65) $ 0.87 $ 4.56\\nWeighted-average shares used to compute net income (loss) per share attributable to\\ncommon stockholders:\\nBasic 1,972,131 2,035,651 2,094,602\\nDiluted 1,974,928 2,091,782 2,150,508\\nThe accompanying notes are an integral part of these consolidated financial statements.\\n75',\n",
       "   \"UBER TECHNOLOGIES, INC.\\nCONSOLIDATED BALANCE SHEETS\\n(In millions, except share amounts which are reflected in thousands, and per share amounts)\\nAs of December 31, 2023 As of December 31, 2024\\nAssets\\nCash and cash equivalents $ 4,680 $ 5,893\\nShort-term investments 727 1,084\\nRestricted cash and cash equivalents 805 545\\nAccounts receivable, net of allowance of $91 and $95, respectively 3,404 3,333\\nPrepaid expenses and other current assets 1,681 1,390\\nTotal current assets 11,297 12,245\\nRestricted cash and cash equivalents 1,519 2,172\\nRestricted investments 4,779 7,019\\nInvestments 6,101 8,460\\nEquity method investments 353 302\\nProperty and equipment, net 2,073 1,952\\nOperating lease right-of-use assets 1,241 1,158\\nIntangible assets, net 1,425 1,125\\nGoodwill 8,151 8,066\\nDeferred tax assets 170 6,171\\nOther assets 1,590 2,574\\nTotal assets $ 38,699 $ 51,244\\nLiabilities, redeemable non-controlling interests and equity\\nAccounts payable $ 790 $ 858\\nShort-term insurance reserves 2,077 2,754\\nOperating lease liabilities, current 190 175\\nAccrued and other current liabilities 6,397 7,689\\nTotal current liabilities 9,454 11,476\\nLong-term insurance reserves 4,909 7,042\\nLong-term debt, net of current portion 9,459 8,347\\nOperating lease liabilities, non-current 1,550 1,454\\nOther long-term liabilities 645 449\\nTotal liabilities 26,017 28,768\\nCommitments and contingencies (Note 14)\\nRedeemable non-controlling interests 654 93\\nEquity\\nCommon stock, $0.00001 par value, 5,000,000 shares authorized for both\\nperiods, 2,071,144 and 2,107,953 shares issued and outstanding,\\nrespectively — —\\nAdditional paid-in capital 42,264 42,801\\nAccumulated other comprehensive loss (421) (517)\\nAccumulated deficit (30,594) (20,726)\\nTotal Uber Technologies, Inc. stockholders' equity 11,249 21,558\\nNon-redeemable non-controlling interests 779 825\\nTotal equity 12,028 22,383\\nTotal liabilities, redeemable non-controlling interests and equity $ 38,699 $ 51,244\\nThe accompanying notes are an integral part of these consolidated financial statements.\\n74\"]],\n",
       " 'uris': None,\n",
       " 'included': ['metadatas', 'documents', 'distances'],\n",
       " 'data': None,\n",
       " 'metadatas': [[{'Document': 'Uber-2024-Annual-Report',\n",
       "    'Type': 'text',\n",
       "    'Page': '84',\n",
       "    'Split': '0'},\n",
       "   {'Document': 'Uber-2024-Annual-Report',\n",
       "    'Split': '0',\n",
       "    'Type': 'text',\n",
       "    'Page': '79'},\n",
       "   {'Document': 'Uber-2024-Annual-Report',\n",
       "    'Page': '78',\n",
       "    'Type': 'text',\n",
       "    'Split': '0'}]],\n",
       " 'distances': [[0.7925822138786316, 0.8091403841972351, 0.8679798245429993]]}"
      ]
     },
     "execution_count": 24,
     "metadata": {},
     "output_type": "execute_result"
    }
   ],
   "source": [
    "query = \"What is the margin for Uber?\"\n",
    "results = get_chroma_results(query=query)\n",
    "results"
   ]
  },
  {
   "cell_type": "code",
   "execution_count": 25,
   "id": "02f13f81",
   "metadata": {},
   "outputs": [
    {
     "name": "stdout",
     "output_type": "stream",
     "text": [
      "Returning from query: What is the revenue of Uber? cache with score: 0.8098\n"
     ]
    },
    {
     "data": {
      "text/plain": [
       "{'ids': [['Uber-2024-Annual-Report_p79_s0',\n",
       "   'Uber-2024-Annual-Report_p98_s0',\n",
       "   'Uber-2024-Annual-Report_p58_s0']],\n",
       " 'embeddings': None,\n",
       " 'documents': [['UBER TECHNOLOGIES, INC.\\nCONSOLIDATED STATEMENTS OF OPERATIONS\\n(In millions, except share amounts which are reflected in thousands, and per share amounts)\\nYear Ended December 31,\\n2022 2023 2024\\nRevenue $ 31,877 $ 37,281 $ 43,978\\nCosts and expenses\\nCost of revenue, exclusive of depreciation and amortization shown separately below 19,659 22,457 26,651\\nOperations and support 2,413 2,689 2,732\\nSales and marketing 4,756 4,356 4,337\\nResearch and development 2,798 3,164 3,109\\nGeneral and administrative 3,136 2,682 3,639\\nDepreciation and amortization 947 823 711\\nTotal costs and expenses 33,709 36,171 41,179\\nIncome (loss) from operations (1,832) 1,110 2,799\\nInterest expense (565) (633) (523)\\nOther income (expense), net (7,029) 1,844 1,849\\nIncome (loss) before income taxes and income (loss) from equity method investments (9,426) 2,321 4,125\\nProvision for (benefit from) income taxes (181) 213 (5,758)\\nIncome (loss) from equity method investments 107 48 (38)\\nNet income (loss) including non-controlling interests (9,138) 2,156 9,845\\nLess: net income (loss) attributable to non-controlling interests, net of tax 3 269 (11)\\nNet income (loss) attributable to Uber Technologies, Inc. $ (9,141) $ 1,887 $ 9,856\\nNet income (loss) per share attributable to Uber Technologies, Inc. common\\nstockholders:\\nBasic $ (4.64) $ 0.93 $ 4.71\\nDiluted $ (4.65) $ 0.87 $ 4.56\\nWeighted-average shares used to compute net income (loss) per share attributable to\\ncommon stockholders:\\nBasic 1,972,131 2,035,651 2,094,602\\nDiluted 1,974,928 2,091,782 2,150,508\\nThe accompanying notes are an integral part of these consolidated financial statements.\\n75',\n",
       "   '15, 2026, and interim periods within fiscal years beginning after December 15, 2027. Early adoption is permitted. We are currently\\nevaluating the impact of this accounting standard update on our consolidated financial statements and related disclosures.\\nNote 2 – Revenue\\nThe following tables present our revenues disaggregated by offering and geographical region. Revenue by geographical region is\\nbased on where the transaction occurred. This level of disaggregation takes into consideration how the nature, amount, timing, and\\nuncertainty of revenue and cash flows are affected by economic factors (in millions):\\nYear Ended December 31,\\n2022 2023 2024\\nMobility revenue (1) $ 14,029 $ 19,832 $ 25,087\\nDelivery revenue (1) 10,901 12,204 13,750\\nFreight revenue 6,947 5,245 5,141\\nTotal revenue $ 31,877 $ 37,281 $ 43,978\\n(1) We offer subscription memberships to end-users including Uber One, Uber Pass, Rides Pass, and Eats Pass (“Subscription”).\\nWe recognize Subscription fees ratably over the life of the pass. We allocate Subscription fees earned to Mobility and Delivery\\nrevenue on a proportional basis, based on usage for each offering during the respective period.\\nYear Ended December 31,\\n2022 2023 2024\\nUnited States and Canada (\"US&CAN\") $ 19,474 $ 20,436 $ 23,618\\nLatin America (\"LatAm\") 1,978 2,512 2,795\\nEurope, Middle East and Africa (\"EMEA\") 6,944 9,904 12,529\\nAsia Pacific (\"APAC\") 3,481 4,429 5,036\\nTotal revenue $ 31,877 $ 37,281 $ 43,978\\nRevenue\\nMobility Revenue\\nWe derive revenue from fees paid by Mobility Drivers for the use of our platform(s) and related services to facilitate and complete\\nMobility services and, in certain markets, revenue from fees paid by end-users for connection services obtained via the platform.\\nMobility revenue also includes immaterial revenue streams such as our financial partnerships products.\\nAdditionally, in certain markets where we are responsible for Mobility services, fees charged to end-users are also included in\\nrevenue, while payments to Drivers in exchange for Mobility services are recognized in cost of revenue, exclusive of depreciation and\\namortization.\\nDelivery Revenue\\nWe derive revenue for Delivery from Merchants’ and Couriers’ use of the Delivery platform and related service to facilitate and\\ncomplete Delivery transactions and, in certain markets, revenue from fees paid by end-users for connection services obtained via the\\nplatform.\\nAdditionally, in certain markets where we are responsible for Delivery services, delivery fees charged to end-users are also\\nincluded in revenue, while payments to Couriers in exchange for Delivery services are recognized in cost of revenue, exclusive of\\ndepreciation and amortization. Delivery also includes advertising revenue from sponsored listing fees paid by Merchants and brands in\\nexchange for advertising services.\\nFreight Revenue\\nFreight revenue consists of revenue from freight transportation services provided to shippers and transportation management.\\n94',\n",
       "   'The following table sets forth the components of our consolidated statements of operations for each of the periods presented as a\\npercentage of revenue (1):\\nYear Ended December 31,\\n2023 2024\\nRevenue 100 % 100 %\\nCosts and expenses\\nCost of revenue, exclusive of depreciation and amortization shown separately below 60 % 61 %\\nOperations and support 7 % 6 %\\nSales and marketing 12 % 10 %\\nResearch and development 8 % 7 %\\nGeneral and administrative 7 % 8 %\\nDepreciation and amortization 2 % 2 %\\nTotal costs and expenses 97 % 94 %\\nIncome from operations 3 % 6 %\\nInterest expense (2) % (1) %\\nOther income (expense), net 5 % 4 %\\nIncome before income taxes and income (loss) from equity method investments 6 % 9 %\\nProvision for (benefit from) income taxes 1 % (13) %\\nIncome (loss) from equity method investments — % — %\\nNet income including non-controlling interests 6 % 22 %\\nLess: net income (loss) attributable to non-controlling interests, net of tax 1 % — %\\nNet income attributable to Uber Technologies, Inc. 5 % 22 %\\n(1) Totals of percentage of revenues may not foot due to rounding.\\nComparison of the Years Ended December 31, 2023 and 2024\\nRevenue\\nYear Ended December 31,\\n(In millions, except percentages) 2023 2024 % Change\\nRevenue $ 37,281 $ 43,978 18 %\\n2024 Compared to 2023\\nRevenue increased $6.7 billion, or 18% year-over-year, primarily attributable to an increase in Gross Bookings of 18%. The\\nincrease in Gross Bookings was primarily driven by an increase in Mobility and Delivery Trip volumes. The increase in revenue was\\npartially offset by business model changes in some countries that classified certain sales and marketing costs as contra revenue, which\\nnegatively impacted revenue by $863 million and $713 million across Mobility and Delivery, respectively.\\nCost of Revenue, Exclusive of Depreciation and Amortization\\nYear Ended December 31,\\n(In millions, except percentages) 2023 2024 % Change\\nCost of revenue, exclusive of depreciation and amortization $ 22,457 $ 26,651 19 %\\nPercentage of revenue 60 % 61 %\\n2024 Compared to 2023\\nCost of revenue, exclusive of depreciation and amortization, increased $4.2 billion, or 19%, mainly due to a $1.3 billion increase\\nin insurance expense primarily due to an increase in insurance rate per mile and miles driven in our Mobility business, a $1.3 billion\\nincrease in Driver payments and incentives that are recorded in cost of revenue, exclusive of depreciation and amortization, as a result\\nof increased Mobility Gross Bookings in certain markets, a $718 million increase in Courier payments and incentives that are recorded\\nin cost of revenue, exclusive of depreciation and amortization, as a result of increased Delivery Gross Bookings in certain markets,\\nand a $303 million increase in credit card processing costs, as a result of increased Gross Bookings.\\nOperations and Support\\n54']],\n",
       " 'uris': None,\n",
       " 'included': ['metadatas', 'documents', 'distances'],\n",
       " 'data': None,\n",
       " 'metadatas': [[{'Type': 'text',\n",
       "    'Split': '0',\n",
       "    'Page': '79',\n",
       "    'Document': 'Uber-2024-Annual-Report'},\n",
       "   {'Split': '0',\n",
       "    'Type': 'text',\n",
       "    'Document': 'Uber-2024-Annual-Report',\n",
       "    'Page': '98'},\n",
       "   {'Page': '58',\n",
       "    'Type': 'text',\n",
       "    'Document': 'Uber-2024-Annual-Report',\n",
       "    'Split': '0'}]],\n",
       " 'distances': [[0.5836783051490784, 0.6543114185333252, 0.7018038034439087]]}"
      ]
     },
     "execution_count": 25,
     "metadata": {},
     "output_type": "execute_result"
    }
   ],
   "source": [
    "query = \"What much money Uber made?\"\n",
    "results = get_chroma_results(query=query)\n",
    "results"
   ]
  },
  {
   "cell_type": "code",
   "execution_count": null,
   "id": "5b124802",
   "metadata": {},
   "outputs": [],
   "source": []
  }
 ],
 "metadata": {
  "kernelspec": {
   "display_name": "miniforge",
   "language": "python",
   "name": "python3"
  },
  "language_info": {
   "codemirror_mode": {
    "name": "ipython",
    "version": 3
   },
   "file_extension": ".py",
   "mimetype": "text/x-python",
   "name": "python",
   "nbconvert_exporter": "python",
   "pygments_lexer": "ipython3",
   "version": "3.12.11"
  }
 },
 "nbformat": 4,
 "nbformat_minor": 5
}
