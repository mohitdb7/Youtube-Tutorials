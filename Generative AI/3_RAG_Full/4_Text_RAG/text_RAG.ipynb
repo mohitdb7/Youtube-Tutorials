{
 "cells": [
  {
   "cell_type": "markdown",
   "id": "67a89ebc",
   "metadata": {},
   "source": [
    "# Text RAG\n",
    "\n",
    "Steps\n",
    "- Load the document\n",
    "- Perform Chunking\n",
    "- Covert to Text Embedding\n",
    "- Store the Embedding to VectorDB\n",
    "- Save VectorDB to disk\n",
    "\n",
    "Query\n",
    "- Convert Query to Text Embedding using the same model\n",
    "- Check in Cache if the query exists then return from there else perform the VectorDB Search for X results\n",
    "- Take VectorDB X results and give it to reranker for sorting based on query relavance. \n",
    "- Select the top Y records from reranker\n",
    "- Give this Y records to the LLM for humanised response\n",
    "- Send the response to the user"
   ]
  },
  {
   "cell_type": "code",
   "execution_count": null,
   "id": "5cabe22c",
   "metadata": {},
   "outputs": [
    {
     "name": "stdout",
     "output_type": "stream",
     "text": [
      "gsk_r...pCzko\n"
     ]
    }
   ],
   "source": [
    "from dotenv import load_dotenv\n",
    "import os\n",
    "\n",
    "load_dotenv()\n",
    "\n",
    "groq_key = os.environ.get(\"GROQ_API_KEY\")\n",
    "print(f\"Groq Key: {groq_key[:5]}...{groq_key[-5:]}\")"
   ]
  },
  {
   "cell_type": "markdown",
   "id": "4383708d",
   "metadata": {},
   "source": [
    "## Step 1: Import Libraries and load the document"
   ]
  },
  {
   "cell_type": "code",
   "execution_count": 3,
   "id": "d81e1d57",
   "metadata": {},
   "outputs": [],
   "source": [
    "import pdfplumber\n",
    "import pandas as pd\n",
    "import numpy as np\n",
    "\n",
    "from sentence_transformers import SentenceTransformer\n",
    "from sklearn.metrics.pairwise import cosine_similarity\n",
    "\n",
    "#FAISS, PINECONE\n",
    "import chromadb\n",
    "from chromadb import PersistentClient\n",
    "from chromadb.config import Settings"
   ]
  },
  {
   "cell_type": "code",
   "execution_count": 4,
   "id": "c3e60d2f",
   "metadata": {},
   "outputs": [
    {
     "data": {
      "text/plain": [
       "142"
      ]
     },
     "execution_count": 4,
     "metadata": {},
     "output_type": "execute_result"
    }
   ],
   "source": [
    "pdf_reader = pdfplumber.open(\"../Data/Uber-2024-Annual-Report.pdf\")\n",
    "len(pdf_reader.pages)"
   ]
  },
  {
   "cell_type": "markdown",
   "id": "6fb8f1f7",
   "metadata": {},
   "source": [
    "## Step 2: Page Chunking"
   ]
  },
  {
   "cell_type": "code",
   "execution_count": 5,
   "id": "bf4e7ea9",
   "metadata": {},
   "outputs": [
    {
     "name": "stdout",
     "output_type": "stream",
     "text": [
      "Page number: 1, count: 5\n",
      "Page number: 139, count: 2\n",
      "Page number: 140, count: 5\n"
     ]
    },
    {
     "data": {
      "text/plain": [
       "{'type': 'text',\n",
       " 'document': 'Uber-2024-Annual-Report',\n",
       " 'page': '2',\n",
       " 'split': '0',\n",
       " 'content': 'Uber’s Mission\\nWe reimagine the way the world moves for the better\\nWe are Uber. The go-getters. The kind of people who are relentless about our\\nmission to help people go anywhere and get anything and earn their way.\\nMovement is what we power. It’s our lifeblood. It runs through our veins. It’s\\nwhat gets us out of bed each morning. It pushes us to constantly reimagine\\nhow we can move better. For you. For all the places you want to go. For all the\\nthings you want to get. For all the ways you want to earn. Across the entire\\nworld. In real time. At the incredible speed of now.'}"
      ]
     },
     "execution_count": 5,
     "metadata": {},
     "output_type": "execute_result"
    }
   ],
   "source": [
    "text_content = []\n",
    "\n",
    "def find_middle_newline(s):\n",
    "    # Step 1: Find all indexes of '\\n'\n",
    "    newline_indices = [i for i, char in enumerate(s) if char == '\\n']\n",
    "    \n",
    "    if not newline_indices:\n",
    "        return None  # No newline found\n",
    "    \n",
    "    # Step 2: Find the middle index\n",
    "    middle_index = len(newline_indices) // 2\n",
    "    \n",
    "    # Step 3: Return the position of the middle '\\n'\n",
    "    return newline_indices[middle_index]\n",
    "\n",
    "\n",
    "document_name = \"\".join(pdf_reader.stream.name.split(\"/\")[-1].split(\".\")[:-1])\n",
    "\n",
    "\n",
    "for i, page in enumerate(pdf_reader.pages):\n",
    "    text_page = page.extract_text()\n",
    "\n",
    "    if len(text_page.split(\" \")) < 10:\n",
    "        print(f\"Page number: {i+1}, count: {len(text_page.split(\" \"))}\")\n",
    "        continue\n",
    "\n",
    "    if len(text_page) > 5000:\n",
    "        mid_index = find_middle_newline(text_page)\n",
    "        text_content.append({\n",
    "            \"type\" : \"text\",\n",
    "            \"document\": document_name,\n",
    "            \"page\": f\"{i+1}\",\n",
    "            \"split\":f\"0\",\n",
    "            \"content\": text_page[:mid_index]\n",
    "        })\n",
    "\n",
    "        text_content.append({\n",
    "            \"type\" : \"text\",\n",
    "            \"document\": document_name,\n",
    "            \"page\": f\"{i+1}\",\n",
    "            \"split\":f\"1\",\n",
    "            \"content\": text_page[mid_index+1:]\n",
    "        })\n",
    "    else:\n",
    "        text_content.append({\n",
    "                    \"type\" : \"text\",\n",
    "                    \"document\": document_name,\n",
    "                    \"page\": f\"{i+1}\",\n",
    "                    \"split\":f\"0\",\n",
    "                    \"content\": text_page\n",
    "                })\n",
    "\n",
    "text_content[0]"
   ]
  },
  {
   "cell_type": "code",
   "execution_count": 6,
   "id": "d3e27624",
   "metadata": {},
   "outputs": [
    {
     "data": {
      "text/html": [
       "<div>\n",
       "<style scoped>\n",
       "    .dataframe tbody tr th:only-of-type {\n",
       "        vertical-align: middle;\n",
       "    }\n",
       "\n",
       "    .dataframe tbody tr th {\n",
       "        vertical-align: top;\n",
       "    }\n",
       "\n",
       "    .dataframe thead th {\n",
       "        text-align: right;\n",
       "    }\n",
       "</style>\n",
       "<table border=\"1\" class=\"dataframe\">\n",
       "  <thead>\n",
       "    <tr style=\"text-align: right;\">\n",
       "      <th></th>\n",
       "      <th>content</th>\n",
       "      <th>MetaData</th>\n",
       "    </tr>\n",
       "  </thead>\n",
       "  <tbody>\n",
       "    <tr>\n",
       "      <th>0</th>\n",
       "      <td>Uber’s Mission\\nWe reimagine the way the world...</td>\n",
       "      <td>{'Document': 'Uber-2024-Annual-Report', 'Page'...</td>\n",
       "    </tr>\n",
       "    <tr>\n",
       "      <th>1</th>\n",
       "      <td>UNITED STATES\\nSECURITIES AND EXCHANGE COMMISS...</td>\n",
       "      <td>{'Document': 'Uber-2024-Annual-Report', 'Page'...</td>\n",
       "    </tr>\n",
       "    <tr>\n",
       "      <th>2</th>\n",
       "      <td>Large accelerated filer ☒ Accelerated filer ☐\\...</td>\n",
       "      <td>{'Document': 'Uber-2024-Annual-Report', 'Page'...</td>\n",
       "    </tr>\n",
       "    <tr>\n",
       "      <th>3</th>\n",
       "      <td>UBER TECHNOLOGIES, INC.\\nTABLE OF CONTENTS\\nPa...</td>\n",
       "      <td>{'Document': 'Uber-2024-Annual-Report', 'Page'...</td>\n",
       "    </tr>\n",
       "    <tr>\n",
       "      <th>4</th>\n",
       "      <td>SPECIAL NOTE REGARDING FORWARD-LOOKING STATEME...</td>\n",
       "      <td>{'Document': 'Uber-2024-Annual-Report', 'Page'...</td>\n",
       "    </tr>\n",
       "  </tbody>\n",
       "</table>\n",
       "</div>"
      ],
      "text/plain": [
       "                                             content  \\\n",
       "0  Uber’s Mission\\nWe reimagine the way the world...   \n",
       "1  UNITED STATES\\nSECURITIES AND EXCHANGE COMMISS...   \n",
       "2  Large accelerated filer ☒ Accelerated filer ☐\\...   \n",
       "3  UBER TECHNOLOGIES, INC.\\nTABLE OF CONTENTS\\nPa...   \n",
       "4  SPECIAL NOTE REGARDING FORWARD-LOOKING STATEME...   \n",
       "\n",
       "                                            MetaData  \n",
       "0  {'Document': 'Uber-2024-Annual-Report', 'Page'...  \n",
       "1  {'Document': 'Uber-2024-Annual-Report', 'Page'...  \n",
       "2  {'Document': 'Uber-2024-Annual-Report', 'Page'...  \n",
       "3  {'Document': 'Uber-2024-Annual-Report', 'Page'...  \n",
       "4  {'Document': 'Uber-2024-Annual-Report', 'Page'...  "
      ]
     },
     "execution_count": 6,
     "metadata": {},
     "output_type": "execute_result"
    }
   ],
   "source": [
    "text_doc = pd.DataFrame(text_content)\n",
    "text_doc[\"MetaData\"] = text_doc.apply(lambda x: {\"Document\": x[\"document\"], \"Page\": x[\"page\"], \"Split\": x[\"split\"], \"Type\": x[\"type\"]}, axis=1)\n",
    "text_doc = text_doc.drop([\"type\", \"document\", \"page\", \"split\"], axis=1)\n",
    "text_doc.head()"
   ]
  },
  {
   "cell_type": "markdown",
   "id": "aef377a7",
   "metadata": {},
   "source": [
    "### Step 3: Text Embedding"
   ]
  },
  {
   "cell_type": "code",
   "execution_count": 7,
   "id": "1d3c56a8",
   "metadata": {},
   "outputs": [],
   "source": [
    "model_name = \"all-MiniLM-L6-v2\"\n",
    "embedding_model = SentenceTransformer(model_name)\n",
    "only_text = text_doc[\"content\"].tolist()\n",
    "\n",
    "embeddings = embedding_model.encode(only_text)\n",
    "ids = text_doc[\"MetaData\"].apply(lambda x: f\"{x['Document']}_p{x['Page']}_s{x['Split']}\") "
   ]
  },
  {
   "cell_type": "markdown",
   "id": "b306f2cc",
   "metadata": {},
   "source": [
    "## Step 4: Store the embedding to DB"
   ]
  },
  {
   "cell_type": "code",
   "execution_count": 8,
   "id": "9047648a",
   "metadata": {},
   "outputs": [
    {
     "name": "stdout",
     "output_type": "stream",
     "text": [
      "Collection 'uber_revenue' exists.\n"
     ]
    }
   ],
   "source": [
    "Chroma_DB_Path = \"../Store/2_VectorDB\"\n",
    "COLLECTION_NAME = \"uber_revenue\"\n",
    "\n",
    "# chroma_client = chromadb.Client(Settings(\n",
    "#     persist_directory=Chroma_DB_Path,\n",
    "#     anonymized_telemetry=False\n",
    "# ))\n",
    "\n",
    "chroma_client = PersistentClient(path=Chroma_DB_Path)\n",
    "\n",
    "# collection = chroma_client.get_or_create_collection(name=COLLECTION_NAME)\n",
    "\n",
    "try:\n",
    "    collection = chroma_client.get_collection(name=COLLECTION_NAME)\n",
    "    print(f\"Collection '{COLLECTION_NAME}' exists.\")\n",
    "    # You can now work with the 'collection' object\n",
    "except Exception as e:\n",
    "    print(f\"Collection '{COLLECTION_NAME}' does not exist. {str(e)}\")\n",
    "    # You might choose to create the collection here\n",
    "    collection = chroma_client.create_collection(name=COLLECTION_NAME)\n",
    "    # print(f\"Collection '{collection_name}' created.\")\n",
    "       \n",
    "    collection.add(\n",
    "        documents=text_doc['content'].tolist(),\n",
    "        metadatas=text_doc['MetaData'].tolist(),\n",
    "        ids=ids.tolist()\n",
    "    )\n",
    "    print(\"Successfully stored\")"
   ]
  },
  {
   "cell_type": "markdown",
   "id": "3f93511e",
   "metadata": {},
   "source": [
    "## Step 5: Search Logic for DB/ Cache"
   ]
  },
  {
   "cell_type": "code",
   "execution_count": 10,
   "id": "84e15ec4",
   "metadata": {},
   "outputs": [],
   "source": [
    "caching = []\n",
    "cache_emd = []\n",
    "def get_chroma_results(query):\n",
    "    query_emd = embedding_model.encode([query])\n",
    "    \n",
    "    if len(cache_emd) > 0:\n",
    "        cache_emd_array = np.vstack(cache_emd) \n",
    "        similarities = cosine_similarity(query_emd, cache_emd_array)\n",
    "        best_match_indexes = [np.argmax(item) for item in similarities]\n",
    "\n",
    "        if len(best_match_indexes) > 0 and similarities[0][best_match_indexes[0]] > 0.8:\n",
    "            print(f\"Returning from query: {caching[best_match_indexes[0]][\"query\"]} cache with score: {similarities[0][best_match_indexes[0]]:.4f}\")\n",
    "            return (similarities[0][best_match_indexes[0]], caching[best_match_indexes[0]][\"query\"], caching[best_match_indexes[0]][\"results\"])\n",
    "    \n",
    "\n",
    "    results = collection.query(\n",
    "        query_texts=[query],\n",
    "        n_results=15\n",
    "    )\n",
    "\n",
    "    caching.append({\"query\": query, \"results\": results}) \n",
    "    cache_emd.append(query_emd)\n",
    "    \n",
    "    return (0, caching[-1][\"query\"], results)"
   ]
  },
  {
   "cell_type": "code",
   "execution_count": 11,
   "id": "957ffa5e",
   "metadata": {},
   "outputs": [],
   "source": [
    "rerank_cache = {}\n",
    "\n",
    "from sentence_transformers import CrossEncoder\n",
    "\n",
    "def rerank_results(query, sim_score, ret_query, result):\n",
    "    if sim_score > 0.9 and rerank_cache.get(ret_query):\n",
    "        print(f\"Reranker returning from cache for query {ret_query}\")\n",
    "        return rerank_cache.get(ret_query)\n",
    "\n",
    "    model_name = 'cross-encoder/ms-marco-MiniLM-L-12-v2'\n",
    "\n",
    "    reranker_model = CrossEncoder(model_name)\n",
    "\n",
    "    pairs = [(query, doc) for doc in result['documents'][0]]\n",
    "\n",
    "    scores = reranker_model.predict(pairs)\n",
    "\n",
    "    scored_results = list(zip(result['documents'][0], scores))\n",
    "\n",
    "    new_docs = [(doc, result['metadatas'][0][i], score) for i, (doc, score) in enumerate(scored_results)]\n",
    "\n",
    "    # Sort by score (descending)\n",
    "    sorted_results = sorted(new_docs, key=lambda x: x[2], reverse=True)\n",
    "\n",
    "    # Select top 5\n",
    "    top_5 = sorted_results[:5]\n",
    "\n",
    "    rerank_cache[query] = top_5\n",
    "\n",
    "    return top_5"
   ]
  },
  {
   "cell_type": "code",
   "execution_count": 12,
   "id": "e653125b",
   "metadata": {},
   "outputs": [
    {
     "name": "stdout",
     "output_type": "stream",
     "text": [
      "----------------------------------------------------------------------------------------------------\n",
      "1. Score: 6.6189 - \n",
      "Document: UBER TECHNOLOGIES, INC.\n",
      "CONSOLIDATED STATEMENTS OF OPERATIONS\n",
      "(In millions, except share amounts whi...\n",
      "Page: 79\n",
      "----------------------------------------------------------------------------------------------------\n",
      "2. Score: 4.4928 - \n",
      "Document: 15, 2026, and interim periods within fiscal years beginning after December 15, 2027. Early adoption ...\n",
      "Page: 98\n",
      "----------------------------------------------------------------------------------------------------\n",
      "3. Score: 3.6021 - \n",
      "Document: financial statements included in Part II, Item 8, “Financial Statements and Supplementary Data,” of ...\n",
      "Page: 55\n",
      "----------------------------------------------------------------------------------------------------\n",
      "4. Score: 3.5405 - \n",
      "Document: UBER TECHNOLOGIES, INC.\n",
      "CONSOLIDATED STATEMENTS OF COMPREHENSIVE INCOME (LOSS)\n",
      "(In millions)\n",
      "Year En...\n",
      "Page: 80\n",
      "----------------------------------------------------------------------------------------------------\n",
      "5. Score: 3.3460 - \n",
      "Document: The following table presents a reconciliation of net income attributable to Uber Technologies, Inc.,...\n",
      "Page: 66\n"
     ]
    }
   ],
   "source": [
    "query = \"what is uber\\'s revenue\"\n",
    "sim_score, ret_query, result = get_chroma_results(query=query)\n",
    "\n",
    "top_5 = rerank_results(query=query, sim_score=sim_score, ret_query=ret_query, result=result)\n",
    "for i, (doc, meta, score) in enumerate(top_5):\n",
    "    print(\"--\"*50)\n",
    "    print(f\"{i+1}. Score: {score:.4f} - \\nDocument: {doc[:100]}...\\nPage: {meta[\"Page\"]}\")"
   ]
  },
  {
   "cell_type": "code",
   "execution_count": 14,
   "id": "4918f6e2",
   "metadata": {},
   "outputs": [
    {
     "data": {
      "text/plain": [
       "'\\n\\n                __________\\n                Page Number: 79\\n                Text content: UBER TECHNOLOGIES, INC.\\nCONSOLIDATED STATEMENTS OF OPERATIONS\\n(In millions, except share amounts which are reflected in thousands, and per share amounts)\\nYear Ended December 31,\\n2022 2023 2024\\nRevenue $ 31,877 $ 37,281 $ 43,978\\nCosts and expenses\\nCost of revenue, exclusive of depreciation and amortization shown separately below 19,659 22,457 26,651\\nOperations and support 2,413 2,689 2,732\\nSales and marketing 4,756 4,356 4,337\\nResearch and development 2,798 3,164 3,109\\nGeneral and administrative 3,136 2,682 3,639\\nDepreciation and amortization 947 823 711\\nTotal costs and expenses 33,709 36,171 41,179\\nIncome (loss) from operations (1,832) 1,110 2,799\\nInterest expense (565) (633) (523)\\nOther income (expense), net (7,029) 1,844 1,849\\nIncome (loss) before income taxes and income (loss) from equity method investments (9,426) 2,321 4,125\\nProvision for (benefit from) income taxes (181) 213 (5,758)\\nIncome (loss) from equity method investments 107 48 (38)\\nNet income (loss) including non-controlling interests (9,138) 2,156 9,845\\nLess: net income (loss) attributable to non-controlling interests, net of tax 3 269 (11)\\nNet income (loss) attributable to Uber Technologies, Inc. $ (9,141) $ 1,887 $ 9,856\\nNet income (loss) per share attributable to Uber Technologies, Inc. common\\nstockholders:\\nBasic $ (4.64) $ 0.93 $ 4.71\\nDiluted $ (4.65) $ 0.87 $ 4.56\\nWeighted-average shares used to compute net income (loss) per share attributable to\\ncommon stockholders:\\nBasic 1,972,131 2,035,651 2,094,602\\nDiluted 1,974,928 2,091,782 2,150,508\\nThe accompanying notes are an integral part of these consolidated financial statements.\\n75\\n                ___________\\n            \\n\\n                __________\\n                Page Number: 98\\n                Text content: 15, 2026, and interim periods within fiscal years beginning after December 15, 2027. Early adoption is permitted. We are currently\\nevaluating the impact of this accounting standard update on our consolidated financial statements and related disclosures.\\nNote 2 – Revenue\\nThe following tables present our revenues disaggregated by offering and geographical region. Revenue by geographical region is\\nbased on where the transaction occurred. This level of disaggregation takes into consideration how the nature, amount, timing, and\\nuncertainty of revenue and cash flows are affected by economic factors (in millions):\\nYear Ended December 31,\\n2022 2023 2024\\nMobility revenue (1) $ 14,029 $ 19,832 $ 25,087\\nDelivery revenue (1) 10,901 12,204 13,750\\nFreight revenue 6,947 5,245 5,141\\nTotal revenue $ 31,877 $ 37,281 $ 43,978\\n(1) We offer subscription memberships to end-users including Uber One, Uber Pass, Rides Pass, and Eats Pass (“Subscription”).\\nWe recognize Subscription fees ratably over the life of the pass. We allocate Subscription fees earned to Mobility and Delivery\\nrevenue on a proportional basis, based on usage for each offering during the respective period.\\nYear Ended December 31,\\n2022 2023 2024\\nUnited States and Canada (\"US&CAN\") $ 19,474 $ 20,436 $ 23,618\\nLatin America (\"LatAm\") 1,978 2,512 2,795\\nEurope, Middle East and Africa (\"EMEA\") 6,944 9,904 12,529\\nAsia Pacific (\"APAC\") 3,481 4,429 5,036\\nTotal revenue $ 31,877 $ 37,281 $ 43,978\\nRevenue\\nMobility Revenue\\nWe derive revenue from fees paid by Mobility Drivers for the use of our platform(s) and related services to facilitate and complete\\nMobility services and, in certain markets, revenue from fees paid by end-users for connection services obtained via the platform.\\nMobility revenue also includes immaterial revenue streams such as our financial partnerships products.\\nAdditionally, in certain markets where we are responsible for Mobility services, fees charged to end-users are also included in\\nrevenue, while payments to Drivers in exchange for Mobility services are recognized in cost of revenue, exclusive of depreciation and\\namortization.\\nDelivery Revenue\\nWe derive revenue for Delivery from Merchants’ and Couriers’ use of the Delivery platform and related service to facilitate and\\ncomplete Delivery transactions and, in certain markets, revenue from fees paid by end-users for connection services obtained via the\\nplatform.\\nAdditionally, in certain markets where we are responsible for Delivery services, delivery fees charged to end-users are also\\nincluded in revenue, while payments to Couriers in exchange for Delivery services are recognized in cost of revenue, exclusive of\\ndepreciation and amortization. Delivery also includes advertising revenue from sponsored listing fees paid by Merchants and brands in\\nexchange for advertising services.\\nFreight Revenue\\nFreight revenue consists of revenue from freight transportation services provided to shippers and transportation management.\\n94\\n                ___________\\n            \\n\\n                __________\\n                Page Number: 55\\n                Text content: financial statements included in Part II, Item 8, “Financial Statements and Supplementary Data,” of this Annual Report on Form 10-K.\\nCost of Revenue, Exclusive of Depreciation and Amortization\\nCost of revenue, exclusive of depreciation and amortization, primarily consists of costs incurred for certain Mobility and Delivery\\ntransactions where we are primarily responsible for Mobility and Delivery services and pay Drivers and Couriers for services, certain\\ninsurance costs related to our Mobility and Delivery offerings, costs incurred with Carriers for Uber Freight transportation services,\\ncredit card processing fees, bank fees, data center and networking expenses, mobile device and service costs, and amounts related to\\nfare chargebacks and other credit card losses.\\nWe expect that cost of revenue, exclusive of depreciation and amortization, will fluctuate on an absolute dollar basis for the\\nforeseeable future primarily driven by Trip volume changes on the platform.\\nOperations and Support\\nOperations and support expenses primarily consist of compensation expenses, including stock-based compensation, for employees\\nthat support operations in cities, including the general managers, Driver operations, platform user support representatives and\\ncommunity managers. Also included is the cost of customer support, Driver background checks and the allocation of certain corporate\\ncosts.\\nWe would expect operations and support expenses to vary from period to period on an absolute dollar basis, but decrease as a\\npercentage of revenue as we become more efficient in supporting platform users.\\nSales and Marketing\\nSales and marketing expenses primarily consist of advertising costs, product marketing costs, consumer discounts, promotions,\\ncredits and refunds provided to end-users who are not customers, compensation costs, including stock-based compensation to sales\\nand marketing employees, and the allocation of certain corporate costs. We expense advertising and other promotional expenditures as\\nincurred.\\nWe would expect sales and marketing expenses to vary from period to period as a percentage of revenue due to timing of\\nmarketing campaigns.\\nDuring the year ended December 31, 2023, we implemented a business model change in certain major markets resulting in end-\\nusers becoming our customers. Promotions to end-users considered customers are recognized as contra-revenue while promotions to\\nend-users not considered customers are recognized as sales and marketing expenses.\\nResearch and Development\\nResearch and development expenses primarily consist of compensation costs, including stock-based compensation, for employees\\nin engineering, design and product development. Expenses also include ongoing improvements to, and maintenance of, existing\\nproducts and services, and allocation of certain corporate costs. We expense substantially all research and development expenses as\\nincurred.\\nWe would expect research and development expenses to increase on an absolute dollar basis and vary from period to period as a\\npercentage of revenue as we continue to invest in research and development activities relating to ongoing improvements to and\\nmaintenance of our platform offerings and other research and development programs.\\nGeneral and Administrative\\nGeneral and administrative expenses primarily consist of compensation costs, including stock-based compensation, for executive\\nmanagement and administrative employees, including finance and accounting, human resources, policy and communications, legal,\\nand certain impairment charges, as well as allocation of certain corporate costs, occupancy, and general corporate insurance costs.\\nGeneral and administrative expenses also include certain legal related accruals and expenses.\\nWe would expect general and administrative expenses to increase on an absolute dollar basis for the foreseeable future as our\\nbusiness continues to grow and Trip volume increases, but decrease as a percentage of revenue as we achieve improved fixed cost\\nleverage and efficiencies in our internal support functions. General and administrative expenses as a percentage of revenue may vary\\nfrom period to period as a percentage of revenue due to the variability of legal and regulatory-related expenses.\\nDepreciation and Amortization\\nDepreciation and amortization expenses primarily consist of depreciation on buildings, site improvements, computer and network\\nequipment, software, leasehold improvements, furniture and fixtures, and amortization of intangible assets. Depreciation includes\\nexpenses associated with buildings, site improvements, computer and network equipment, and furniture, fixtures, as well as leasehold\\nimprovements. Amortization includes expenses associated with our capitalized internal-use software and acquired intangible assets.\\n51\\n                ___________\\n            \\n\\n                __________\\n                Page Number: 80\\n                Text content: UBER TECHNOLOGIES, INC.\\nCONSOLIDATED STATEMENTS OF COMPREHENSIVE INCOME (LOSS)\\n(In millions)\\nYear Ended December 31,\\n2022 2023 2024\\nNet income (loss) including non-controlling interests $ (9,138) $ 2,156 $ 9,845\\nOther comprehensive income (loss), net of tax:\\nChange in foreign currency translation adjustment 81 17 (95)\\nChange in unrealized gain (loss) on investments in available-for-sale\\ndebt securities — 5 (1)\\nOther comprehensive income (loss), net of tax 81 22 (96)\\nComprehensive income (loss) including non-controlling interests (9,057) 2,178 9,749\\nLess: comprehensive income (loss) attributable to non-controlling interests 3 269 (11)\\nComprehensive income (loss) attributable to Uber Technologies, Inc. $ (9,060) $ 1,909 $ 9,760\\nThe accompanying notes are an integral part of these consolidated financial statements.\\n76\\n                ___________\\n            \\n\\n                __________\\n                Page Number: 66\\n                Text content: The following table presents a reconciliation of net income attributable to Uber Technologies, Inc., the most directly comparable\\nGAAP financial measure, to Adjusted EBITDA for each of the periods indicated:\\nYear Ended December 31,\\n(In millions) 2023 2024\\nAdjusted EBITDA reconciliation:\\nNet income attributable to Uber Technologies, Inc. $ 1,887 $ 9,856\\nAdd (deduct):\\nNet income (loss) attributable to non-controlling interests, net of tax 269 (11)\\n(Income) loss from equity method investments (48) 38\\nProvision for (benefit from) income taxes 213 (5,758)\\nOther (income) expense, net (1,844) (1,849)\\nInterest expense 633 523\\nIncome from operations 1,110 2,799\\nAdd (deduct):\\nDepreciation and amortization 823 711\\nStock-based compensation expense 1,935 1,796\\nLegal, tax, and regulatory reserve changes and settlements 9 1,123\\nGoodwill and asset impairments/loss on sale of assets 84 3\\nAcquisition, financing and divestitures related expenses 36 25\\nLoss on lease arrangements, net 4 2\\nRestructuring and related charges, net 51 25\\nAdjusted EBITDA $ 4,052 $ 6,484\\nConstant Currency\\nWe compare the percent change in our current period results from the corresponding prior period using constant currency\\ndisclosure. We present constant currency growth rate information to provide a framework for assessing how our underlying revenue\\nperformed excluding the effect of foreign currency rate fluctuations. We calculate constant currency by translating our current period\\nfinancial results using the corresponding prior period’s monthly exchange rates for our transacted currencies other than the U.S. dollar.\\nFree Cash Flow\\nWe define free cash flow as net cash flows from operating activities less capital expenditures. The following table presents a\\nreconciliation of free cash flow to the most directly comparable GAAP financial measure for each of the periods indicated:\\nYear Ended December 31,\\n(In millions) 2023 2024\\nFree cash flow reconciliation:\\nNet cash provided by operating activities $ 3,585 $ 7,137\\nPurchases of property and equipment (223) (242)\\nFree cash flow $ 3,362 $ 6,895\\nLiquidity and Capital Resources\\nYear Ended December 31,\\n(In millions) 2023 2024\\nNet cash provided by operating activities $ 3,585 $ 7,137\\nNet cash used in investing activities (3,226) (3,177)\\nNet cash used in financing activities (95) (2,087)\\n62\\n                ___________\\n            '"
      ]
     },
     "execution_count": 14,
     "metadata": {},
     "output_type": "execute_result"
    }
   ],
   "source": [
    "search_results = \"\"\n",
    "\n",
    "for i, (doc, meta, score) in enumerate(top_5):\n",
    "    my_var = f\"\"\"\n",
    "                __________\n",
    "                Page Number: {meta[\"Page\"]}\n",
    "                Text content: {doc}\n",
    "                ___________\n",
    "            \"\"\"\n",
    "    search_results = f\"{search_results}\\n{my_var}\"\n",
    "\n",
    "search_results"
   ]
  },
  {
   "cell_type": "code",
   "execution_count": null,
   "id": "182ae7f7",
   "metadata": {},
   "outputs": [],
   "source": []
  },
  {
   "cell_type": "code",
   "execution_count": null,
   "id": "1c8af4b1",
   "metadata": {},
   "outputs": [],
   "source": []
  },
  {
   "cell_type": "code",
   "execution_count": null,
   "id": "81f41d98",
   "metadata": {},
   "outputs": [],
   "source": []
  },
  {
   "cell_type": "code",
   "execution_count": null,
   "id": "1cba7b7b",
   "metadata": {},
   "outputs": [],
   "source": [
    "llm_prompt = f\"\"\"\n",
    "You are a helpful assistant that summarizes and humanizes extracted information from a PDF document.\n",
    "\n",
    "You are given a list of top search results extracted from a PDF via vector similarity search. Each result includes:\n",
    "- Page number\n",
    "- Text content\n",
    "\n",
    "The results may come from different sections of the document but are all relevant to a user's query. Your goal is to:\n",
    "- Merge the information into a single, coherent, human-readable explanation.\n",
    "- Remove duplicate or redundant points.\n",
    "- Clarify technical terms where necessary.\n",
    "- Maintain important context and detail.\n",
    "- Do not reference page numbers unless specifically requested.\n",
    "- Do not list each result or say “Based on the results…”\n",
    "\n",
    "Here is the extracted content:\n",
    "\n",
    "[Insert vector DB results here in the format:  \n",
    "{search_results}  \n",
    "]\n",
    "\n",
    "Now, write a clear, concise, and natural summary of the combined information above. The tone should be informative and accessible to someone unfamiliar with the source document. Also, give me the reference page numbers\n",
    "\n",
    "\"\"\""
   ]
  },
  {
   "cell_type": "code",
   "execution_count": 16,
   "id": "7d6a7151",
   "metadata": {},
   "outputs": [
    {
     "data": {
      "text/plain": [
       "'\\nYou are a helpful assistant that summarizes and humanizes extracted information from a PDF document.\\n\\nYou are given a list of top search results extracted from a PDF via vector similarity search. Each result includes:\\n- Page number\\n- Text content\\n\\nThe results may come from different sections of the document but are all relevant to a user\\'s query. Your goal is to:\\n- Merge the information into a single, coherent, human-readable explanation.\\n- Remove duplicate or redundant points.\\n- Clarify technical terms where necessary.\\n- Maintain important context and detail.\\n- Do not reference page numbers unless specifically requested.\\n- Do not list each result or say “Based on the results…”\\n\\nHere is the extracted content:\\n\\n[Insert vector DB results here in the format:  \\n\\n\\n                __________\\n                Page Number: 79\\n                Text content: UBER TECHNOLOGIES, INC.\\nCONSOLIDATED STATEMENTS OF OPERATIONS\\n(In millions, except share amounts which are reflected in thousands, and per share amounts)\\nYear Ended December 31,\\n2022 2023 2024\\nRevenue $ 31,877 $ 37,281 $ 43,978\\nCosts and expenses\\nCost of revenue, exclusive of depreciation and amortization shown separately below 19,659 22,457 26,651\\nOperations and support 2,413 2,689 2,732\\nSales and marketing 4,756 4,356 4,337\\nResearch and development 2,798 3,164 3,109\\nGeneral and administrative 3,136 2,682 3,639\\nDepreciation and amortization 947 823 711\\nTotal costs and expenses 33,709 36,171 41,179\\nIncome (loss) from operations (1,832) 1,110 2,799\\nInterest expense (565) (633) (523)\\nOther income (expense), net (7,029) 1,844 1,849\\nIncome (loss) before income taxes and income (loss) from equity method investments (9,426) 2,321 4,125\\nProvision for (benefit from) income taxes (181) 213 (5,758)\\nIncome (loss) from equity method investments 107 48 (38)\\nNet income (loss) including non-controlling interests (9,138) 2,156 9,845\\nLess: net income (loss) attributable to non-controlling interests, net of tax 3 269 (11)\\nNet income (loss) attributable to Uber Technologies, Inc. $ (9,141) $ 1,887 $ 9,856\\nNet income (loss) per share attributable to Uber Technologies, Inc. common\\nstockholders:\\nBasic $ (4.64) $ 0.93 $ 4.71\\nDiluted $ (4.65) $ 0.87 $ 4.56\\nWeighted-average shares used to compute net income (loss) per share attributable to\\ncommon stockholders:\\nBasic 1,972,131 2,035,651 2,094,602\\nDiluted 1,974,928 2,091,782 2,150,508\\nThe accompanying notes are an integral part of these consolidated financial statements.\\n75\\n                ___________\\n            \\n\\n                __________\\n                Page Number: 98\\n                Text content: 15, 2026, and interim periods within fiscal years beginning after December 15, 2027. Early adoption is permitted. We are currently\\nevaluating the impact of this accounting standard update on our consolidated financial statements and related disclosures.\\nNote 2 – Revenue\\nThe following tables present our revenues disaggregated by offering and geographical region. Revenue by geographical region is\\nbased on where the transaction occurred. This level of disaggregation takes into consideration how the nature, amount, timing, and\\nuncertainty of revenue and cash flows are affected by economic factors (in millions):\\nYear Ended December 31,\\n2022 2023 2024\\nMobility revenue (1) $ 14,029 $ 19,832 $ 25,087\\nDelivery revenue (1) 10,901 12,204 13,750\\nFreight revenue 6,947 5,245 5,141\\nTotal revenue $ 31,877 $ 37,281 $ 43,978\\n(1) We offer subscription memberships to end-users including Uber One, Uber Pass, Rides Pass, and Eats Pass (“Subscription”).\\nWe recognize Subscription fees ratably over the life of the pass. We allocate Subscription fees earned to Mobility and Delivery\\nrevenue on a proportional basis, based on usage for each offering during the respective period.\\nYear Ended December 31,\\n2022 2023 2024\\nUnited States and Canada (\"US&CAN\") $ 19,474 $ 20,436 $ 23,618\\nLatin America (\"LatAm\") 1,978 2,512 2,795\\nEurope, Middle East and Africa (\"EMEA\") 6,944 9,904 12,529\\nAsia Pacific (\"APAC\") 3,481 4,429 5,036\\nTotal revenue $ 31,877 $ 37,281 $ 43,978\\nRevenue\\nMobility Revenue\\nWe derive revenue from fees paid by Mobility Drivers for the use of our platform(s) and related services to facilitate and complete\\nMobility services and, in certain markets, revenue from fees paid by end-users for connection services obtained via the platform.\\nMobility revenue also includes immaterial revenue streams such as our financial partnerships products.\\nAdditionally, in certain markets where we are responsible for Mobility services, fees charged to end-users are also included in\\nrevenue, while payments to Drivers in exchange for Mobility services are recognized in cost of revenue, exclusive of depreciation and\\namortization.\\nDelivery Revenue\\nWe derive revenue for Delivery from Merchants’ and Couriers’ use of the Delivery platform and related service to facilitate and\\ncomplete Delivery transactions and, in certain markets, revenue from fees paid by end-users for connection services obtained via the\\nplatform.\\nAdditionally, in certain markets where we are responsible for Delivery services, delivery fees charged to end-users are also\\nincluded in revenue, while payments to Couriers in exchange for Delivery services are recognized in cost of revenue, exclusive of\\ndepreciation and amortization. Delivery also includes advertising revenue from sponsored listing fees paid by Merchants and brands in\\nexchange for advertising services.\\nFreight Revenue\\nFreight revenue consists of revenue from freight transportation services provided to shippers and transportation management.\\n94\\n                ___________\\n            \\n\\n                __________\\n                Page Number: 55\\n                Text content: financial statements included in Part II, Item 8, “Financial Statements and Supplementary Data,” of this Annual Report on Form 10-K.\\nCost of Revenue, Exclusive of Depreciation and Amortization\\nCost of revenue, exclusive of depreciation and amortization, primarily consists of costs incurred for certain Mobility and Delivery\\ntransactions where we are primarily responsible for Mobility and Delivery services and pay Drivers and Couriers for services, certain\\ninsurance costs related to our Mobility and Delivery offerings, costs incurred with Carriers for Uber Freight transportation services,\\ncredit card processing fees, bank fees, data center and networking expenses, mobile device and service costs, and amounts related to\\nfare chargebacks and other credit card losses.\\nWe expect that cost of revenue, exclusive of depreciation and amortization, will fluctuate on an absolute dollar basis for the\\nforeseeable future primarily driven by Trip volume changes on the platform.\\nOperations and Support\\nOperations and support expenses primarily consist of compensation expenses, including stock-based compensation, for employees\\nthat support operations in cities, including the general managers, Driver operations, platform user support representatives and\\ncommunity managers. Also included is the cost of customer support, Driver background checks and the allocation of certain corporate\\ncosts.\\nWe would expect operations and support expenses to vary from period to period on an absolute dollar basis, but decrease as a\\npercentage of revenue as we become more efficient in supporting platform users.\\nSales and Marketing\\nSales and marketing expenses primarily consist of advertising costs, product marketing costs, consumer discounts, promotions,\\ncredits and refunds provided to end-users who are not customers, compensation costs, including stock-based compensation to sales\\nand marketing employees, and the allocation of certain corporate costs. We expense advertising and other promotional expenditures as\\nincurred.\\nWe would expect sales and marketing expenses to vary from period to period as a percentage of revenue due to timing of\\nmarketing campaigns.\\nDuring the year ended December 31, 2023, we implemented a business model change in certain major markets resulting in end-\\nusers becoming our customers. Promotions to end-users considered customers are recognized as contra-revenue while promotions to\\nend-users not considered customers are recognized as sales and marketing expenses.\\nResearch and Development\\nResearch and development expenses primarily consist of compensation costs, including stock-based compensation, for employees\\nin engineering, design and product development. Expenses also include ongoing improvements to, and maintenance of, existing\\nproducts and services, and allocation of certain corporate costs. We expense substantially all research and development expenses as\\nincurred.\\nWe would expect research and development expenses to increase on an absolute dollar basis and vary from period to period as a\\npercentage of revenue as we continue to invest in research and development activities relating to ongoing improvements to and\\nmaintenance of our platform offerings and other research and development programs.\\nGeneral and Administrative\\nGeneral and administrative expenses primarily consist of compensation costs, including stock-based compensation, for executive\\nmanagement and administrative employees, including finance and accounting, human resources, policy and communications, legal,\\nand certain impairment charges, as well as allocation of certain corporate costs, occupancy, and general corporate insurance costs.\\nGeneral and administrative expenses also include certain legal related accruals and expenses.\\nWe would expect general and administrative expenses to increase on an absolute dollar basis for the foreseeable future as our\\nbusiness continues to grow and Trip volume increases, but decrease as a percentage of revenue as we achieve improved fixed cost\\nleverage and efficiencies in our internal support functions. General and administrative expenses as a percentage of revenue may vary\\nfrom period to period as a percentage of revenue due to the variability of legal and regulatory-related expenses.\\nDepreciation and Amortization\\nDepreciation and amortization expenses primarily consist of depreciation on buildings, site improvements, computer and network\\nequipment, software, leasehold improvements, furniture and fixtures, and amortization of intangible assets. Depreciation includes\\nexpenses associated with buildings, site improvements, computer and network equipment, and furniture, fixtures, as well as leasehold\\nimprovements. Amortization includes expenses associated with our capitalized internal-use software and acquired intangible assets.\\n51\\n                ___________\\n            \\n\\n                __________\\n                Page Number: 80\\n                Text content: UBER TECHNOLOGIES, INC.\\nCONSOLIDATED STATEMENTS OF COMPREHENSIVE INCOME (LOSS)\\n(In millions)\\nYear Ended December 31,\\n2022 2023 2024\\nNet income (loss) including non-controlling interests $ (9,138) $ 2,156 $ 9,845\\nOther comprehensive income (loss), net of tax:\\nChange in foreign currency translation adjustment 81 17 (95)\\nChange in unrealized gain (loss) on investments in available-for-sale\\ndebt securities — 5 (1)\\nOther comprehensive income (loss), net of tax 81 22 (96)\\nComprehensive income (loss) including non-controlling interests (9,057) 2,178 9,749\\nLess: comprehensive income (loss) attributable to non-controlling interests 3 269 (11)\\nComprehensive income (loss) attributable to Uber Technologies, Inc. $ (9,060) $ 1,909 $ 9,760\\nThe accompanying notes are an integral part of these consolidated financial statements.\\n76\\n                ___________\\n            \\n\\n                __________\\n                Page Number: 66\\n                Text content: The following table presents a reconciliation of net income attributable to Uber Technologies, Inc., the most directly comparable\\nGAAP financial measure, to Adjusted EBITDA for each of the periods indicated:\\nYear Ended December 31,\\n(In millions) 2023 2024\\nAdjusted EBITDA reconciliation:\\nNet income attributable to Uber Technologies, Inc. $ 1,887 $ 9,856\\nAdd (deduct):\\nNet income (loss) attributable to non-controlling interests, net of tax 269 (11)\\n(Income) loss from equity method investments (48) 38\\nProvision for (benefit from) income taxes 213 (5,758)\\nOther (income) expense, net (1,844) (1,849)\\nInterest expense 633 523\\nIncome from operations 1,110 2,799\\nAdd (deduct):\\nDepreciation and amortization 823 711\\nStock-based compensation expense 1,935 1,796\\nLegal, tax, and regulatory reserve changes and settlements 9 1,123\\nGoodwill and asset impairments/loss on sale of assets 84 3\\nAcquisition, financing and divestitures related expenses 36 25\\nLoss on lease arrangements, net 4 2\\nRestructuring and related charges, net 51 25\\nAdjusted EBITDA $ 4,052 $ 6,484\\nConstant Currency\\nWe compare the percent change in our current period results from the corresponding prior period using constant currency\\ndisclosure. We present constant currency growth rate information to provide a framework for assessing how our underlying revenue\\nperformed excluding the effect of foreign currency rate fluctuations. We calculate constant currency by translating our current period\\nfinancial results using the corresponding prior period’s monthly exchange rates for our transacted currencies other than the U.S. dollar.\\nFree Cash Flow\\nWe define free cash flow as net cash flows from operating activities less capital expenditures. The following table presents a\\nreconciliation of free cash flow to the most directly comparable GAAP financial measure for each of the periods indicated:\\nYear Ended December 31,\\n(In millions) 2023 2024\\nFree cash flow reconciliation:\\nNet cash provided by operating activities $ 3,585 $ 7,137\\nPurchases of property and equipment (223) (242)\\nFree cash flow $ 3,362 $ 6,895\\nLiquidity and Capital Resources\\nYear Ended December 31,\\n(In millions) 2023 2024\\nNet cash provided by operating activities $ 3,585 $ 7,137\\nNet cash used in investing activities (3,226) (3,177)\\nNet cash used in financing activities (95) (2,087)\\n62\\n                ___________\\n              \\n]\\n\\nNow, write a clear, concise, and natural summary of the combined information above. The tone should be informative and accessible to someone unfamiliar with the source document.\\n\\n'"
      ]
     },
     "execution_count": 16,
     "metadata": {},
     "output_type": "execute_result"
    }
   ],
   "source": [
    "llm_prompt"
   ]
  },
  {
   "cell_type": "markdown",
   "id": "6eeb63df",
   "metadata": {},
   "source": [
    "## Create the LLM"
   ]
  },
  {
   "cell_type": "code",
   "execution_count": 17,
   "id": "8db9e34d",
   "metadata": {},
   "outputs": [],
   "source": [
    "from groq import Groq\n",
    "\n",
    "groq_client = Groq(api_key=groq_key)\n",
    "\n",
    "chat_result = groq_client.chat.completions.create(\n",
    "    model=\"llama-3.3-70b-versatile\",\n",
    "    messages=[\n",
    "        {\n",
    "            \"role\": \"user\",\n",
    "            \"content\":llm_prompt\n",
    "        }\n",
    "    ]\n",
    ")"
   ]
  },
  {
   "cell_type": "code",
   "execution_count": 20,
   "id": "7a231b11",
   "metadata": {},
   "outputs": [],
   "source": [
    "from rich.console import Console\n",
    "from rich.markdown import Markdown\n",
    "from rich.json import JSON\n",
    "\n",
    "def print_llm_response(response: str):\n",
    "    console = Console()\n",
    "    try:\n",
    "        console.print(JSON(response))\n",
    "    except Exception:\n",
    "        console.print(Markdown(response))"
   ]
  },
  {
   "cell_type": "code",
   "execution_count": 22,
   "id": "9051f198",
   "metadata": {},
   "outputs": [
    {
     "name": "stdout",
     "output_type": "stream",
     "text": [
      "what is uber's revenue\n"
     ]
    },
    {
     "data": {
      "text/html": [
       "<pre style=\"white-space:pre;overflow-x:auto;line-height:normal;font-family:Menlo,'DejaVu Sans Mono',consolas,'Courier New',monospace\">Uber Technologies, Inc. has released its financial statements, providing insight into the company's performance    \n",
       "over the past three years. The statements show a significant increase in revenue, from $31.9 billion in 2022 to    \n",
       "$43.98 billion in 2024. This growth can be attributed to the company's various offerings, including Mobility,      \n",
       "Delivery, and Freight services. Mobility revenue, which includes fees from drivers and users of the platform,      \n",
       "accounted for the largest portion of revenue, followed by Delivery revenue, which includes fees from merchants and \n",
       "users of the delivery platform.                                                                                    \n",
       "\n",
       "The company's costs and expenses have also increased over the years, primarily due to the growth of its operations \n",
       "and the expansion of its services. The cost of revenue, which includes expenses such as driver payments and        \n",
       "insurance costs, has fluctuated over the years, while operating and support expenses, which include compensation   \n",
       "costs for employees, have decreased as a percentage of revenue.                                                    \n",
       "\n",
       "Uber's net income has also seen a significant increase, from a loss of $9.14 billion in 2022 to a profit of $9.86  \n",
       "billion in 2024. The company's comprehensive income, which includes changes in foreign currency translation and    \n",
       "unrealized gains or losses on investments, has also improved over the years.                                       \n",
       "\n",
       "In addition to its financial performance, Uber has also provided information on its adjusted EBITDA, which is a    \n",
       "measure of the company's profitability. The company's adjusted EBITDA has increased from $4.05 billion in 2023 to  \n",
       "$6.48 billion in 2024, indicating a significant improvement in its profitability.                                  \n",
       "\n",
       "The company has also provided information on its free cash flow, which is a measure of its ability to generate cash\n",
       "from its operations. Uber's free cash flow has increased from $3.36 billion in 2023 to $6.90 billion in 2024,      \n",
       "indicating a significant improvement in its ability to generate cash.                                              \n",
       "\n",
       "Overall, Uber's financial statements suggest that the company has made significant progress in improving its       \n",
       "financial performance and increasing its revenue and profitability. However, the company still faces challenges,   \n",
       "such as fluctuating costs and expenses, and must continue to invest in its operations and services to maintain its \n",
       "competitive position in the market.                                                                                \n",
       "</pre>\n"
      ],
      "text/plain": [
       "Uber Technologies, Inc. has released its financial statements, providing insight into the company's performance    \n",
       "over the past three years. The statements show a significant increase in revenue, from $31.9 billion in 2022 to    \n",
       "$43.98 billion in 2024. This growth can be attributed to the company's various offerings, including Mobility,      \n",
       "Delivery, and Freight services. Mobility revenue, which includes fees from drivers and users of the platform,      \n",
       "accounted for the largest portion of revenue, followed by Delivery revenue, which includes fees from merchants and \n",
       "users of the delivery platform.                                                                                    \n",
       "\n",
       "The company's costs and expenses have also increased over the years, primarily due to the growth of its operations \n",
       "and the expansion of its services. The cost of revenue, which includes expenses such as driver payments and        \n",
       "insurance costs, has fluctuated over the years, while operating and support expenses, which include compensation   \n",
       "costs for employees, have decreased as a percentage of revenue.                                                    \n",
       "\n",
       "Uber's net income has also seen a significant increase, from a loss of $9.14 billion in 2022 to a profit of $9.86  \n",
       "billion in 2024. The company's comprehensive income, which includes changes in foreign currency translation and    \n",
       "unrealized gains or losses on investments, has also improved over the years.                                       \n",
       "\n",
       "In addition to its financial performance, Uber has also provided information on its adjusted EBITDA, which is a    \n",
       "measure of the company's profitability. The company's adjusted EBITDA has increased from $4.05 billion in 2023 to  \n",
       "$6.48 billion in 2024, indicating a significant improvement in its profitability.                                  \n",
       "\n",
       "The company has also provided information on its free cash flow, which is a measure of its ability to generate cash\n",
       "from its operations. Uber's free cash flow has increased from $3.36 billion in 2023 to $6.90 billion in 2024,      \n",
       "indicating a significant improvement in its ability to generate cash.                                              \n",
       "\n",
       "Overall, Uber's financial statements suggest that the company has made significant progress in improving its       \n",
       "financial performance and increasing its revenue and profitability. However, the company still faces challenges,   \n",
       "such as fluctuating costs and expenses, and must continue to invest in its operations and services to maintain its \n",
       "competitive position in the market.                                                                                \n"
      ]
     },
     "metadata": {},
     "output_type": "display_data"
    }
   ],
   "source": [
    "print(query)\n",
    "print_llm_response(chat_result.choices[0].message.content)"
   ]
  },
  {
   "cell_type": "code",
   "execution_count": null,
   "id": "e1e7d3b2",
   "metadata": {},
   "outputs": [],
   "source": []
  }
 ],
 "metadata": {
  "kernelspec": {
   "display_name": "miniforge",
   "language": "python",
   "name": "python3"
  },
  "language_info": {
   "codemirror_mode": {
    "name": "ipython",
    "version": 3
   },
   "file_extension": ".py",
   "mimetype": "text/x-python",
   "name": "python",
   "nbconvert_exporter": "python",
   "pygments_lexer": "ipython3",
   "version": "3.12.11"
  }
 },
 "nbformat": 4,
 "nbformat_minor": 5
}
